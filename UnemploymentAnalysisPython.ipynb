{
  "nbformat": 4,
  "nbformat_minor": 0,
  "metadata": {
    "colab": {
      "provenance": [],
      "include_colab_link": true
    },
    "kernelspec": {
      "name": "python3",
      "display_name": "Python 3"
    },
    "language_info": {
      "name": "python"
    }
  },
  "cells": [
    {
      "cell_type": "markdown",
      "metadata": {
        "id": "view-in-github",
        "colab_type": "text"
      },
      "source": [
        "<a href=\"https://colab.research.google.com/github/mounsifelatouch/OIBSIP/blob/master/Task2/UnemploymentAnalysisPython.ipynb\" target=\"_parent\"><img src=\"https://colab.research.google.com/assets/colab-badge.svg\" alt=\"Open In Colab\"/></a>"
      ]
    },
    {
      "cell_type": "markdown",
      "source": [
        "# Oasis Infobyte Internship (15 October - 15 November, 2023)\n",
        "## Data Science Internship\n",
        "### <u>`Task 2`</u> : `UNEMPLOYMENT ANALYSIS WITH PYTHON`\n",
        "#### `MOUNSIF EL ATOUCH`"
      ],
      "metadata": {
        "id": "lTIFcby0wcJs"
      }
    },
    {
      "cell_type": "markdown",
      "source": [
        "This study aims to `compare unemployment rates across different states or areas` to understand disparities in employment conditions. Visualizations like bar charts or choropleth maps will be used to highlight variations and identify regions with higher or lower unemployment rates. This analysis provides valuable insights for informed decision-making, targeted interventions, and policy formulation to address regional employment disparities."
      ],
      "metadata": {
        "id": "EXQ21Q0OpQrv"
      }
    },
    {
      "cell_type": "code",
      "source": [
        "# Needed packages\n",
        "import pandas as pd                 # For data manipulation and analysis\n",
        "import numpy as np                  # For numerical computations and handling arrays\n",
        "import matplotlib.pyplot as plt     # For data visualization\n",
        "import seaborn as sns               # For enhanced data visualization\n",
        "import plotly.express as px\n",
        "from sklearn.model_selection import train_test_split      # For dataset splitting\n",
        "from datetime import datetime       # For working with dates and times\n",
        "import warnings\n",
        "warnings.filterwarnings(\"ignore\")                         # Disable warnings\n",
        "%matplotlib inline"
      ],
      "metadata": {
        "id": "u8prTKymeZWT"
      },
      "execution_count": 1,
      "outputs": []
    },
    {
      "cell_type": "code",
      "source": [
        "# Download the dataset\n",
        "! wget https://raw.githubusercontent.com/mounsifelatouch/OIBSIP/master/Task2/Unemployment%20in%20India.csv"
      ],
      "metadata": {
        "colab": {
          "base_uri": "https://localhost:8080/"
        },
        "id": "oZDzyrYDff1_",
        "outputId": "d1f2238c-bed8-4b2b-c84f-8dc9a51339cf"
      },
      "execution_count": 2,
      "outputs": [
        {
          "output_type": "stream",
          "name": "stdout",
          "text": [
            "--2023-10-18 20:43:08--  https://raw.githubusercontent.com/mounsifelatouch/OIBSIP/master/Task2/Unemployment%20in%20India.csv\n",
            "Resolving raw.githubusercontent.com (raw.githubusercontent.com)... 185.199.108.133, 185.199.109.133, 185.199.110.133, ...\n",
            "Connecting to raw.githubusercontent.com (raw.githubusercontent.com)|185.199.108.133|:443... connected.\n",
            "HTTP request sent, awaiting response... 200 OK\n",
            "Length: 46274 (45K) [text/plain]\n",
            "Saving to: ‘Unemployment in India.csv’\n",
            "\n",
            "\r          Unemploym   0%[                    ]       0  --.-KB/s               \rUnemployment in Ind 100%[===================>]  45.19K  --.-KB/s    in 0.001s  \n",
            "\n",
            "2023-10-18 20:43:08 (34.7 MB/s) - ‘Unemployment in India.csv’ saved [46274/46274]\n",
            "\n"
          ]
        }
      ]
    },
    {
      "cell_type": "code",
      "source": [
        "# Load the dataset\n",
        "data = pd.read_csv(\"/content/Unemployment in India.csv\")"
      ],
      "metadata": {
        "id": "5zpGhlYmgTIu"
      },
      "execution_count": 3,
      "outputs": []
    },
    {
      "cell_type": "code",
      "source": [
        "# Disply the first few rows of the dataset\n",
        "data.head()"
      ],
      "metadata": {
        "id": "aUzwzWTIB_Ap",
        "outputId": "215a03ac-5050-44d3-93ef-3c73023adaf8",
        "colab": {
          "base_uri": "https://localhost:8080/",
          "height": 206
        }
      },
      "execution_count": 4,
      "outputs": [
        {
          "output_type": "execute_result",
          "data": {
            "text/plain": [
              "           Region         Date  Frequency   Estimated Unemployment Rate (%)  \\\n",
              "0  Andhra Pradesh   31-05-2019    Monthly                              3.65   \n",
              "1  Andhra Pradesh   30-06-2019    Monthly                              3.05   \n",
              "2  Andhra Pradesh   31-07-2019    Monthly                              3.75   \n",
              "3  Andhra Pradesh   31-08-2019    Monthly                              3.32   \n",
              "4  Andhra Pradesh   30-09-2019    Monthly                              5.17   \n",
              "\n",
              "    Estimated Employed   Estimated Labour Participation Rate (%)   Area  \n",
              "0           11999139.0                                     43.24  Rural  \n",
              "1           11755881.0                                     42.05  Rural  \n",
              "2           12086707.0                                     43.50  Rural  \n",
              "3           12285693.0                                     43.97  Rural  \n",
              "4           12256762.0                                     44.68  Rural  "
            ],
            "text/html": [
              "\n",
              "  <div id=\"df-58b74b11-dbf1-4056-b132-e91f61f0a2cf\" class=\"colab-df-container\">\n",
              "    <div>\n",
              "<style scoped>\n",
              "    .dataframe tbody tr th:only-of-type {\n",
              "        vertical-align: middle;\n",
              "    }\n",
              "\n",
              "    .dataframe tbody tr th {\n",
              "        vertical-align: top;\n",
              "    }\n",
              "\n",
              "    .dataframe thead th {\n",
              "        text-align: right;\n",
              "    }\n",
              "</style>\n",
              "<table border=\"1\" class=\"dataframe\">\n",
              "  <thead>\n",
              "    <tr style=\"text-align: right;\">\n",
              "      <th></th>\n",
              "      <th>Region</th>\n",
              "      <th>Date</th>\n",
              "      <th>Frequency</th>\n",
              "      <th>Estimated Unemployment Rate (%)</th>\n",
              "      <th>Estimated Employed</th>\n",
              "      <th>Estimated Labour Participation Rate (%)</th>\n",
              "      <th>Area</th>\n",
              "    </tr>\n",
              "  </thead>\n",
              "  <tbody>\n",
              "    <tr>\n",
              "      <th>0</th>\n",
              "      <td>Andhra Pradesh</td>\n",
              "      <td>31-05-2019</td>\n",
              "      <td>Monthly</td>\n",
              "      <td>3.65</td>\n",
              "      <td>11999139.0</td>\n",
              "      <td>43.24</td>\n",
              "      <td>Rural</td>\n",
              "    </tr>\n",
              "    <tr>\n",
              "      <th>1</th>\n",
              "      <td>Andhra Pradesh</td>\n",
              "      <td>30-06-2019</td>\n",
              "      <td>Monthly</td>\n",
              "      <td>3.05</td>\n",
              "      <td>11755881.0</td>\n",
              "      <td>42.05</td>\n",
              "      <td>Rural</td>\n",
              "    </tr>\n",
              "    <tr>\n",
              "      <th>2</th>\n",
              "      <td>Andhra Pradesh</td>\n",
              "      <td>31-07-2019</td>\n",
              "      <td>Monthly</td>\n",
              "      <td>3.75</td>\n",
              "      <td>12086707.0</td>\n",
              "      <td>43.50</td>\n",
              "      <td>Rural</td>\n",
              "    </tr>\n",
              "    <tr>\n",
              "      <th>3</th>\n",
              "      <td>Andhra Pradesh</td>\n",
              "      <td>31-08-2019</td>\n",
              "      <td>Monthly</td>\n",
              "      <td>3.32</td>\n",
              "      <td>12285693.0</td>\n",
              "      <td>43.97</td>\n",
              "      <td>Rural</td>\n",
              "    </tr>\n",
              "    <tr>\n",
              "      <th>4</th>\n",
              "      <td>Andhra Pradesh</td>\n",
              "      <td>30-09-2019</td>\n",
              "      <td>Monthly</td>\n",
              "      <td>5.17</td>\n",
              "      <td>12256762.0</td>\n",
              "      <td>44.68</td>\n",
              "      <td>Rural</td>\n",
              "    </tr>\n",
              "  </tbody>\n",
              "</table>\n",
              "</div>\n",
              "    <div class=\"colab-df-buttons\">\n",
              "\n",
              "  <div class=\"colab-df-container\">\n",
              "    <button class=\"colab-df-convert\" onclick=\"convertToInteractive('df-58b74b11-dbf1-4056-b132-e91f61f0a2cf')\"\n",
              "            title=\"Convert this dataframe to an interactive table.\"\n",
              "            style=\"display:none;\">\n",
              "\n",
              "  <svg xmlns=\"http://www.w3.org/2000/svg\" height=\"24px\" viewBox=\"0 -960 960 960\">\n",
              "    <path d=\"M120-120v-720h720v720H120Zm60-500h600v-160H180v160Zm220 220h160v-160H400v160Zm0 220h160v-160H400v160ZM180-400h160v-160H180v160Zm440 0h160v-160H620v160ZM180-180h160v-160H180v160Zm440 0h160v-160H620v160Z\"/>\n",
              "  </svg>\n",
              "    </button>\n",
              "\n",
              "  <style>\n",
              "    .colab-df-container {\n",
              "      display:flex;\n",
              "      gap: 12px;\n",
              "    }\n",
              "\n",
              "    .colab-df-convert {\n",
              "      background-color: #E8F0FE;\n",
              "      border: none;\n",
              "      border-radius: 50%;\n",
              "      cursor: pointer;\n",
              "      display: none;\n",
              "      fill: #1967D2;\n",
              "      height: 32px;\n",
              "      padding: 0 0 0 0;\n",
              "      width: 32px;\n",
              "    }\n",
              "\n",
              "    .colab-df-convert:hover {\n",
              "      background-color: #E2EBFA;\n",
              "      box-shadow: 0px 1px 2px rgba(60, 64, 67, 0.3), 0px 1px 3px 1px rgba(60, 64, 67, 0.15);\n",
              "      fill: #174EA6;\n",
              "    }\n",
              "\n",
              "    .colab-df-buttons div {\n",
              "      margin-bottom: 4px;\n",
              "    }\n",
              "\n",
              "    [theme=dark] .colab-df-convert {\n",
              "      background-color: #3B4455;\n",
              "      fill: #D2E3FC;\n",
              "    }\n",
              "\n",
              "    [theme=dark] .colab-df-convert:hover {\n",
              "      background-color: #434B5C;\n",
              "      box-shadow: 0px 1px 3px 1px rgba(0, 0, 0, 0.15);\n",
              "      filter: drop-shadow(0px 1px 2px rgba(0, 0, 0, 0.3));\n",
              "      fill: #FFFFFF;\n",
              "    }\n",
              "  </style>\n",
              "\n",
              "    <script>\n",
              "      const buttonEl =\n",
              "        document.querySelector('#df-58b74b11-dbf1-4056-b132-e91f61f0a2cf button.colab-df-convert');\n",
              "      buttonEl.style.display =\n",
              "        google.colab.kernel.accessAllowed ? 'block' : 'none';\n",
              "\n",
              "      async function convertToInteractive(key) {\n",
              "        const element = document.querySelector('#df-58b74b11-dbf1-4056-b132-e91f61f0a2cf');\n",
              "        const dataTable =\n",
              "          await google.colab.kernel.invokeFunction('convertToInteractive',\n",
              "                                                    [key], {});\n",
              "        if (!dataTable) return;\n",
              "\n",
              "        const docLinkHtml = 'Like what you see? Visit the ' +\n",
              "          '<a target=\"_blank\" href=https://colab.research.google.com/notebooks/data_table.ipynb>data table notebook</a>'\n",
              "          + ' to learn more about interactive tables.';\n",
              "        element.innerHTML = '';\n",
              "        dataTable['output_type'] = 'display_data';\n",
              "        await google.colab.output.renderOutput(dataTable, element);\n",
              "        const docLink = document.createElement('div');\n",
              "        docLink.innerHTML = docLinkHtml;\n",
              "        element.appendChild(docLink);\n",
              "      }\n",
              "    </script>\n",
              "  </div>\n",
              "\n",
              "\n",
              "<div id=\"df-6bfbd701-944c-4c6e-bd98-529017eec65d\">\n",
              "  <button class=\"colab-df-quickchart\" onclick=\"quickchart('df-6bfbd701-944c-4c6e-bd98-529017eec65d')\"\n",
              "            title=\"Suggest charts.\"\n",
              "            style=\"display:none;\">\n",
              "\n",
              "<svg xmlns=\"http://www.w3.org/2000/svg\" height=\"24px\"viewBox=\"0 0 24 24\"\n",
              "     width=\"24px\">\n",
              "    <g>\n",
              "        <path d=\"M19 3H5c-1.1 0-2 .9-2 2v14c0 1.1.9 2 2 2h14c1.1 0 2-.9 2-2V5c0-1.1-.9-2-2-2zM9 17H7v-7h2v7zm4 0h-2V7h2v10zm4 0h-2v-4h2v4z\"/>\n",
              "    </g>\n",
              "</svg>\n",
              "  </button>\n",
              "\n",
              "<style>\n",
              "  .colab-df-quickchart {\n",
              "      --bg-color: #E8F0FE;\n",
              "      --fill-color: #1967D2;\n",
              "      --hover-bg-color: #E2EBFA;\n",
              "      --hover-fill-color: #174EA6;\n",
              "      --disabled-fill-color: #AAA;\n",
              "      --disabled-bg-color: #DDD;\n",
              "  }\n",
              "\n",
              "  [theme=dark] .colab-df-quickchart {\n",
              "      --bg-color: #3B4455;\n",
              "      --fill-color: #D2E3FC;\n",
              "      --hover-bg-color: #434B5C;\n",
              "      --hover-fill-color: #FFFFFF;\n",
              "      --disabled-bg-color: #3B4455;\n",
              "      --disabled-fill-color: #666;\n",
              "  }\n",
              "\n",
              "  .colab-df-quickchart {\n",
              "    background-color: var(--bg-color);\n",
              "    border: none;\n",
              "    border-radius: 50%;\n",
              "    cursor: pointer;\n",
              "    display: none;\n",
              "    fill: var(--fill-color);\n",
              "    height: 32px;\n",
              "    padding: 0;\n",
              "    width: 32px;\n",
              "  }\n",
              "\n",
              "  .colab-df-quickchart:hover {\n",
              "    background-color: var(--hover-bg-color);\n",
              "    box-shadow: 0 1px 2px rgba(60, 64, 67, 0.3), 0 1px 3px 1px rgba(60, 64, 67, 0.15);\n",
              "    fill: var(--button-hover-fill-color);\n",
              "  }\n",
              "\n",
              "  .colab-df-quickchart-complete:disabled,\n",
              "  .colab-df-quickchart-complete:disabled:hover {\n",
              "    background-color: var(--disabled-bg-color);\n",
              "    fill: var(--disabled-fill-color);\n",
              "    box-shadow: none;\n",
              "  }\n",
              "\n",
              "  .colab-df-spinner {\n",
              "    border: 2px solid var(--fill-color);\n",
              "    border-color: transparent;\n",
              "    border-bottom-color: var(--fill-color);\n",
              "    animation:\n",
              "      spin 1s steps(1) infinite;\n",
              "  }\n",
              "\n",
              "  @keyframes spin {\n",
              "    0% {\n",
              "      border-color: transparent;\n",
              "      border-bottom-color: var(--fill-color);\n",
              "      border-left-color: var(--fill-color);\n",
              "    }\n",
              "    20% {\n",
              "      border-color: transparent;\n",
              "      border-left-color: var(--fill-color);\n",
              "      border-top-color: var(--fill-color);\n",
              "    }\n",
              "    30% {\n",
              "      border-color: transparent;\n",
              "      border-left-color: var(--fill-color);\n",
              "      border-top-color: var(--fill-color);\n",
              "      border-right-color: var(--fill-color);\n",
              "    }\n",
              "    40% {\n",
              "      border-color: transparent;\n",
              "      border-right-color: var(--fill-color);\n",
              "      border-top-color: var(--fill-color);\n",
              "    }\n",
              "    60% {\n",
              "      border-color: transparent;\n",
              "      border-right-color: var(--fill-color);\n",
              "    }\n",
              "    80% {\n",
              "      border-color: transparent;\n",
              "      border-right-color: var(--fill-color);\n",
              "      border-bottom-color: var(--fill-color);\n",
              "    }\n",
              "    90% {\n",
              "      border-color: transparent;\n",
              "      border-bottom-color: var(--fill-color);\n",
              "    }\n",
              "  }\n",
              "</style>\n",
              "\n",
              "  <script>\n",
              "    async function quickchart(key) {\n",
              "      const quickchartButtonEl =\n",
              "        document.querySelector('#' + key + ' button');\n",
              "      quickchartButtonEl.disabled = true;  // To prevent multiple clicks.\n",
              "      quickchartButtonEl.classList.add('colab-df-spinner');\n",
              "      try {\n",
              "        const charts = await google.colab.kernel.invokeFunction(\n",
              "            'suggestCharts', [key], {});\n",
              "      } catch (error) {\n",
              "        console.error('Error during call to suggestCharts:', error);\n",
              "      }\n",
              "      quickchartButtonEl.classList.remove('colab-df-spinner');\n",
              "      quickchartButtonEl.classList.add('colab-df-quickchart-complete');\n",
              "    }\n",
              "    (() => {\n",
              "      let quickchartButtonEl =\n",
              "        document.querySelector('#df-6bfbd701-944c-4c6e-bd98-529017eec65d button');\n",
              "      quickchartButtonEl.style.display =\n",
              "        google.colab.kernel.accessAllowed ? 'block' : 'none';\n",
              "    })();\n",
              "  </script>\n",
              "</div>\n",
              "    </div>\n",
              "  </div>\n"
            ]
          },
          "metadata": {},
          "execution_count": 4
        }
      ]
    },
    {
      "cell_type": "markdown",
      "source": [
        "`* Labor Force (LF)?`\n",
        "all the members of a particular organization or country who are able to work. <br />\n",
        "( the sum of the employed plus the unemployed )\n",
        "\n",
        "`* Labour Participation Rate (LPR)?`\n",
        "is percentage of all people of working age who are employed or are actively seeking work. <br />\n",
        "\n",
        "`* Unemployment Rate (UR)?`\n",
        "is the percentage of people in the labour force who are unemployed. <br />"
      ],
      "metadata": {
        "id": "o3fl-aqnWtF5"
      }
    },
    {
      "cell_type": "code",
      "source": [
        "# Check column names\n",
        "data.columns"
      ],
      "metadata": {
        "id": "NjNI_TxPhuv0",
        "outputId": "47fd6117-49fe-4541-9d57-e99f208743d2",
        "colab": {
          "base_uri": "https://localhost:8080/"
        }
      },
      "execution_count": 5,
      "outputs": [
        {
          "output_type": "execute_result",
          "data": {
            "text/plain": [
              "Index(['Region', ' Date', ' Frequency', ' Estimated Unemployment Rate (%)',\n",
              "       ' Estimated Employed', ' Estimated Labour Participation Rate (%)',\n",
              "       'Area'],\n",
              "      dtype='object')"
            ]
          },
          "metadata": {},
          "execution_count": 5
        }
      ]
    },
    {
      "cell_type": "markdown",
      "source": [
        "Let's rename columns for consistency and easier access."
      ],
      "metadata": {
        "id": "0jD32GnjizK3"
      }
    },
    {
      "cell_type": "code",
      "source": [
        "columns = ['State', 'Date', 'Frequency', 'EUR', 'EE', 'ELPR', 'Area']\n",
        "data.columns = columns\n",
        "\n",
        "# Check column names again\n",
        "data.columns"
      ],
      "metadata": {
        "id": "hc4G-CMRhotR",
        "outputId": "efc3415e-5990-4ea5-b088-789709f55c8a",
        "colab": {
          "base_uri": "https://localhost:8080/"
        }
      },
      "execution_count": 6,
      "outputs": [
        {
          "output_type": "execute_result",
          "data": {
            "text/plain": [
              "Index(['State', 'Date', 'Frequency', 'EUR', 'EE', 'ELPR', 'Area'], dtype='object')"
            ]
          },
          "metadata": {},
          "execution_count": 6
        }
      ]
    },
    {
      "cell_type": "code",
      "source": [
        "# Check for any missing value\n",
        "data.isnull().sum()     # 28 NaN for each variable"
      ],
      "metadata": {
        "id": "kQPF_YxlCD0m",
        "outputId": "2e08a297-c6c7-4cba-86dd-a699455fd941",
        "colab": {
          "base_uri": "https://localhost:8080/"
        }
      },
      "execution_count": 7,
      "outputs": [
        {
          "output_type": "execute_result",
          "data": {
            "text/plain": [
              "State        28\n",
              "Date         28\n",
              "Frequency    28\n",
              "EUR          28\n",
              "EE           28\n",
              "ELPR         28\n",
              "Area         28\n",
              "dtype: int64"
            ]
          },
          "metadata": {},
          "execution_count": 7
        }
      ]
    },
    {
      "cell_type": "code",
      "source": [
        "# Identify rows that have NaN\n",
        "data[data.isnull().any(axis=1)].index    # 28 rows"
      ],
      "metadata": {
        "colab": {
          "base_uri": "https://localhost:8080/"
        },
        "id": "RHqcH3K9Gp-8",
        "outputId": "4be84740-e96e-4e74-e64e-e5deeeb24cab"
      },
      "execution_count": 8,
      "outputs": [
        {
          "output_type": "execute_result",
          "data": {
            "text/plain": [
              "Int64Index([359, 360, 361, 362, 363, 364, 365, 366, 367, 368, 369, 370, 371,\n",
              "            372, 754, 755, 756, 757, 758, 759, 760, 761, 762, 763, 764, 765,\n",
              "            766, 767],\n",
              "           dtype='int64')"
            ]
          },
          "metadata": {},
          "execution_count": 8
        }
      ]
    },
    {
      "cell_type": "code",
      "source": [
        "# Display the first few rows with NaN\n",
        "rows_with_nan  = data[data.isnull().any(axis=True)]\n",
        "rows_with_nan.head()"
      ],
      "metadata": {
        "colab": {
          "base_uri": "https://localhost:8080/",
          "height": 206
        },
        "id": "qTeTew6qJsr8",
        "outputId": "87764203-d975-4d5f-bbf2-e3f86bc8c6a8"
      },
      "execution_count": 9,
      "outputs": [
        {
          "output_type": "execute_result",
          "data": {
            "text/plain": [
              "    State Date Frequency  EUR  EE  ELPR Area\n",
              "359   NaN  NaN       NaN  NaN NaN   NaN  NaN\n",
              "360   NaN  NaN       NaN  NaN NaN   NaN  NaN\n",
              "361   NaN  NaN       NaN  NaN NaN   NaN  NaN\n",
              "362   NaN  NaN       NaN  NaN NaN   NaN  NaN\n",
              "363   NaN  NaN       NaN  NaN NaN   NaN  NaN"
            ],
            "text/html": [
              "\n",
              "  <div id=\"df-4e9b433a-718b-40cc-b016-2302aec64365\" class=\"colab-df-container\">\n",
              "    <div>\n",
              "<style scoped>\n",
              "    .dataframe tbody tr th:only-of-type {\n",
              "        vertical-align: middle;\n",
              "    }\n",
              "\n",
              "    .dataframe tbody tr th {\n",
              "        vertical-align: top;\n",
              "    }\n",
              "\n",
              "    .dataframe thead th {\n",
              "        text-align: right;\n",
              "    }\n",
              "</style>\n",
              "<table border=\"1\" class=\"dataframe\">\n",
              "  <thead>\n",
              "    <tr style=\"text-align: right;\">\n",
              "      <th></th>\n",
              "      <th>State</th>\n",
              "      <th>Date</th>\n",
              "      <th>Frequency</th>\n",
              "      <th>EUR</th>\n",
              "      <th>EE</th>\n",
              "      <th>ELPR</th>\n",
              "      <th>Area</th>\n",
              "    </tr>\n",
              "  </thead>\n",
              "  <tbody>\n",
              "    <tr>\n",
              "      <th>359</th>\n",
              "      <td>NaN</td>\n",
              "      <td>NaN</td>\n",
              "      <td>NaN</td>\n",
              "      <td>NaN</td>\n",
              "      <td>NaN</td>\n",
              "      <td>NaN</td>\n",
              "      <td>NaN</td>\n",
              "    </tr>\n",
              "    <tr>\n",
              "      <th>360</th>\n",
              "      <td>NaN</td>\n",
              "      <td>NaN</td>\n",
              "      <td>NaN</td>\n",
              "      <td>NaN</td>\n",
              "      <td>NaN</td>\n",
              "      <td>NaN</td>\n",
              "      <td>NaN</td>\n",
              "    </tr>\n",
              "    <tr>\n",
              "      <th>361</th>\n",
              "      <td>NaN</td>\n",
              "      <td>NaN</td>\n",
              "      <td>NaN</td>\n",
              "      <td>NaN</td>\n",
              "      <td>NaN</td>\n",
              "      <td>NaN</td>\n",
              "      <td>NaN</td>\n",
              "    </tr>\n",
              "    <tr>\n",
              "      <th>362</th>\n",
              "      <td>NaN</td>\n",
              "      <td>NaN</td>\n",
              "      <td>NaN</td>\n",
              "      <td>NaN</td>\n",
              "      <td>NaN</td>\n",
              "      <td>NaN</td>\n",
              "      <td>NaN</td>\n",
              "    </tr>\n",
              "    <tr>\n",
              "      <th>363</th>\n",
              "      <td>NaN</td>\n",
              "      <td>NaN</td>\n",
              "      <td>NaN</td>\n",
              "      <td>NaN</td>\n",
              "      <td>NaN</td>\n",
              "      <td>NaN</td>\n",
              "      <td>NaN</td>\n",
              "    </tr>\n",
              "  </tbody>\n",
              "</table>\n",
              "</div>\n",
              "    <div class=\"colab-df-buttons\">\n",
              "\n",
              "  <div class=\"colab-df-container\">\n",
              "    <button class=\"colab-df-convert\" onclick=\"convertToInteractive('df-4e9b433a-718b-40cc-b016-2302aec64365')\"\n",
              "            title=\"Convert this dataframe to an interactive table.\"\n",
              "            style=\"display:none;\">\n",
              "\n",
              "  <svg xmlns=\"http://www.w3.org/2000/svg\" height=\"24px\" viewBox=\"0 -960 960 960\">\n",
              "    <path d=\"M120-120v-720h720v720H120Zm60-500h600v-160H180v160Zm220 220h160v-160H400v160Zm0 220h160v-160H400v160ZM180-400h160v-160H180v160Zm440 0h160v-160H620v160ZM180-180h160v-160H180v160Zm440 0h160v-160H620v160Z\"/>\n",
              "  </svg>\n",
              "    </button>\n",
              "\n",
              "  <style>\n",
              "    .colab-df-container {\n",
              "      display:flex;\n",
              "      gap: 12px;\n",
              "    }\n",
              "\n",
              "    .colab-df-convert {\n",
              "      background-color: #E8F0FE;\n",
              "      border: none;\n",
              "      border-radius: 50%;\n",
              "      cursor: pointer;\n",
              "      display: none;\n",
              "      fill: #1967D2;\n",
              "      height: 32px;\n",
              "      padding: 0 0 0 0;\n",
              "      width: 32px;\n",
              "    }\n",
              "\n",
              "    .colab-df-convert:hover {\n",
              "      background-color: #E2EBFA;\n",
              "      box-shadow: 0px 1px 2px rgba(60, 64, 67, 0.3), 0px 1px 3px 1px rgba(60, 64, 67, 0.15);\n",
              "      fill: #174EA6;\n",
              "    }\n",
              "\n",
              "    .colab-df-buttons div {\n",
              "      margin-bottom: 4px;\n",
              "    }\n",
              "\n",
              "    [theme=dark] .colab-df-convert {\n",
              "      background-color: #3B4455;\n",
              "      fill: #D2E3FC;\n",
              "    }\n",
              "\n",
              "    [theme=dark] .colab-df-convert:hover {\n",
              "      background-color: #434B5C;\n",
              "      box-shadow: 0px 1px 3px 1px rgba(0, 0, 0, 0.15);\n",
              "      filter: drop-shadow(0px 1px 2px rgba(0, 0, 0, 0.3));\n",
              "      fill: #FFFFFF;\n",
              "    }\n",
              "  </style>\n",
              "\n",
              "    <script>\n",
              "      const buttonEl =\n",
              "        document.querySelector('#df-4e9b433a-718b-40cc-b016-2302aec64365 button.colab-df-convert');\n",
              "      buttonEl.style.display =\n",
              "        google.colab.kernel.accessAllowed ? 'block' : 'none';\n",
              "\n",
              "      async function convertToInteractive(key) {\n",
              "        const element = document.querySelector('#df-4e9b433a-718b-40cc-b016-2302aec64365');\n",
              "        const dataTable =\n",
              "          await google.colab.kernel.invokeFunction('convertToInteractive',\n",
              "                                                    [key], {});\n",
              "        if (!dataTable) return;\n",
              "\n",
              "        const docLinkHtml = 'Like what you see? Visit the ' +\n",
              "          '<a target=\"_blank\" href=https://colab.research.google.com/notebooks/data_table.ipynb>data table notebook</a>'\n",
              "          + ' to learn more about interactive tables.';\n",
              "        element.innerHTML = '';\n",
              "        dataTable['output_type'] = 'display_data';\n",
              "        await google.colab.output.renderOutput(dataTable, element);\n",
              "        const docLink = document.createElement('div');\n",
              "        docLink.innerHTML = docLinkHtml;\n",
              "        element.appendChild(docLink);\n",
              "      }\n",
              "    </script>\n",
              "  </div>\n",
              "\n",
              "\n",
              "<div id=\"df-a9326496-f4de-4321-b844-4a18bfabbe75\">\n",
              "  <button class=\"colab-df-quickchart\" onclick=\"quickchart('df-a9326496-f4de-4321-b844-4a18bfabbe75')\"\n",
              "            title=\"Suggest charts.\"\n",
              "            style=\"display:none;\">\n",
              "\n",
              "<svg xmlns=\"http://www.w3.org/2000/svg\" height=\"24px\"viewBox=\"0 0 24 24\"\n",
              "     width=\"24px\">\n",
              "    <g>\n",
              "        <path d=\"M19 3H5c-1.1 0-2 .9-2 2v14c0 1.1.9 2 2 2h14c1.1 0 2-.9 2-2V5c0-1.1-.9-2-2-2zM9 17H7v-7h2v7zm4 0h-2V7h2v10zm4 0h-2v-4h2v4z\"/>\n",
              "    </g>\n",
              "</svg>\n",
              "  </button>\n",
              "\n",
              "<style>\n",
              "  .colab-df-quickchart {\n",
              "      --bg-color: #E8F0FE;\n",
              "      --fill-color: #1967D2;\n",
              "      --hover-bg-color: #E2EBFA;\n",
              "      --hover-fill-color: #174EA6;\n",
              "      --disabled-fill-color: #AAA;\n",
              "      --disabled-bg-color: #DDD;\n",
              "  }\n",
              "\n",
              "  [theme=dark] .colab-df-quickchart {\n",
              "      --bg-color: #3B4455;\n",
              "      --fill-color: #D2E3FC;\n",
              "      --hover-bg-color: #434B5C;\n",
              "      --hover-fill-color: #FFFFFF;\n",
              "      --disabled-bg-color: #3B4455;\n",
              "      --disabled-fill-color: #666;\n",
              "  }\n",
              "\n",
              "  .colab-df-quickchart {\n",
              "    background-color: var(--bg-color);\n",
              "    border: none;\n",
              "    border-radius: 50%;\n",
              "    cursor: pointer;\n",
              "    display: none;\n",
              "    fill: var(--fill-color);\n",
              "    height: 32px;\n",
              "    padding: 0;\n",
              "    width: 32px;\n",
              "  }\n",
              "\n",
              "  .colab-df-quickchart:hover {\n",
              "    background-color: var(--hover-bg-color);\n",
              "    box-shadow: 0 1px 2px rgba(60, 64, 67, 0.3), 0 1px 3px 1px rgba(60, 64, 67, 0.15);\n",
              "    fill: var(--button-hover-fill-color);\n",
              "  }\n",
              "\n",
              "  .colab-df-quickchart-complete:disabled,\n",
              "  .colab-df-quickchart-complete:disabled:hover {\n",
              "    background-color: var(--disabled-bg-color);\n",
              "    fill: var(--disabled-fill-color);\n",
              "    box-shadow: none;\n",
              "  }\n",
              "\n",
              "  .colab-df-spinner {\n",
              "    border: 2px solid var(--fill-color);\n",
              "    border-color: transparent;\n",
              "    border-bottom-color: var(--fill-color);\n",
              "    animation:\n",
              "      spin 1s steps(1) infinite;\n",
              "  }\n",
              "\n",
              "  @keyframes spin {\n",
              "    0% {\n",
              "      border-color: transparent;\n",
              "      border-bottom-color: var(--fill-color);\n",
              "      border-left-color: var(--fill-color);\n",
              "    }\n",
              "    20% {\n",
              "      border-color: transparent;\n",
              "      border-left-color: var(--fill-color);\n",
              "      border-top-color: var(--fill-color);\n",
              "    }\n",
              "    30% {\n",
              "      border-color: transparent;\n",
              "      border-left-color: var(--fill-color);\n",
              "      border-top-color: var(--fill-color);\n",
              "      border-right-color: var(--fill-color);\n",
              "    }\n",
              "    40% {\n",
              "      border-color: transparent;\n",
              "      border-right-color: var(--fill-color);\n",
              "      border-top-color: var(--fill-color);\n",
              "    }\n",
              "    60% {\n",
              "      border-color: transparent;\n",
              "      border-right-color: var(--fill-color);\n",
              "    }\n",
              "    80% {\n",
              "      border-color: transparent;\n",
              "      border-right-color: var(--fill-color);\n",
              "      border-bottom-color: var(--fill-color);\n",
              "    }\n",
              "    90% {\n",
              "      border-color: transparent;\n",
              "      border-bottom-color: var(--fill-color);\n",
              "    }\n",
              "  }\n",
              "</style>\n",
              "\n",
              "  <script>\n",
              "    async function quickchart(key) {\n",
              "      const quickchartButtonEl =\n",
              "        document.querySelector('#' + key + ' button');\n",
              "      quickchartButtonEl.disabled = true;  // To prevent multiple clicks.\n",
              "      quickchartButtonEl.classList.add('colab-df-spinner');\n",
              "      try {\n",
              "        const charts = await google.colab.kernel.invokeFunction(\n",
              "            'suggestCharts', [key], {});\n",
              "      } catch (error) {\n",
              "        console.error('Error during call to suggestCharts:', error);\n",
              "      }\n",
              "      quickchartButtonEl.classList.remove('colab-df-spinner');\n",
              "      quickchartButtonEl.classList.add('colab-df-quickchart-complete');\n",
              "    }\n",
              "    (() => {\n",
              "      let quickchartButtonEl =\n",
              "        document.querySelector('#df-a9326496-f4de-4321-b844-4a18bfabbe75 button');\n",
              "      quickchartButtonEl.style.display =\n",
              "        google.colab.kernel.accessAllowed ? 'block' : 'none';\n",
              "    })();\n",
              "  </script>\n",
              "</div>\n",
              "    </div>\n",
              "  </div>\n"
            ]
          },
          "metadata": {},
          "execution_count": 9
        }
      ]
    },
    {
      "cell_type": "code",
      "source": [
        "# Calculate the percentage of NaN\n",
        "percentage = (rows_with_nan.shape[0]/data.shape[0])*100\n",
        "percentage = np.round(percentage, 2)\n",
        "print('The percentage of missing values in the data is: {} %'.format(percentage))"
      ],
      "metadata": {
        "colab": {
          "base_uri": "https://localhost:8080/"
        },
        "id": "Hm_XnbudMHIv",
        "outputId": "b2896c4a-4609-4b28-e72a-a4080aeca1f3"
      },
      "execution_count": 10,
      "outputs": [
        {
          "output_type": "stream",
          "name": "stdout",
          "text": [
            "The percentage of missing values in the data is: 3.65 %\n"
          ]
        }
      ]
    },
    {
      "cell_type": "markdown",
      "source": [
        "<u>`Comment :`</u><br />\n",
        "Given that the percentage of missing values does not exceed `5%` of the total variables (3.65%), we have decided to remove rows that contain missing values as a data preprocessing step.\n"
      ],
      "metadata": {
        "id": "ZYtXj7cxNP1W"
      }
    },
    {
      "cell_type": "code",
      "source": [
        "# Drop missing values\n",
        "df = data.dropna()"
      ],
      "metadata": {
        "id": "oKh6ErctPXzg"
      },
      "execution_count": 11,
      "outputs": []
    },
    {
      "cell_type": "code",
      "source": [
        "# Check again for any missing value\n",
        "df.isnull().sum()"
      ],
      "metadata": {
        "colab": {
          "base_uri": "https://localhost:8080/"
        },
        "id": "72B4vYb-PoNv",
        "outputId": "dbb79162-d2fc-44c9-aee4-211366d6addf"
      },
      "execution_count": 12,
      "outputs": [
        {
          "output_type": "execute_result",
          "data": {
            "text/plain": [
              "State        0\n",
              "Date         0\n",
              "Frequency    0\n",
              "EUR          0\n",
              "EE           0\n",
              "ELPR         0\n",
              "Area         0\n",
              "dtype: int64"
            ]
          },
          "metadata": {},
          "execution_count": 12
        }
      ]
    },
    {
      "cell_type": "code",
      "source": [
        "# Basic info about the datatype\n",
        "data.info()"
      ],
      "metadata": {
        "colab": {
          "base_uri": "https://localhost:8080/"
        },
        "id": "ctSX1lSce7Ch",
        "outputId": "adec817b-827f-405f-9657-d188a33cfe2b"
      },
      "execution_count": 13,
      "outputs": [
        {
          "output_type": "stream",
          "name": "stdout",
          "text": [
            "<class 'pandas.core.frame.DataFrame'>\n",
            "RangeIndex: 768 entries, 0 to 767\n",
            "Data columns (total 7 columns):\n",
            " #   Column     Non-Null Count  Dtype  \n",
            "---  ------     --------------  -----  \n",
            " 0   State      740 non-null    object \n",
            " 1   Date       740 non-null    object \n",
            " 2   Frequency  740 non-null    object \n",
            " 3   EUR        740 non-null    float64\n",
            " 4   EE         740 non-null    float64\n",
            " 5   ELPR       740 non-null    float64\n",
            " 6   Area       740 non-null    object \n",
            "dtypes: float64(3), object(4)\n",
            "memory usage: 42.1+ KB\n"
          ]
        }
      ]
    },
    {
      "cell_type": "markdown",
      "source": [
        "Let's now convert `Date` column to a `datetime` data type for easier manipulation and analysis."
      ],
      "metadata": {
        "id": "qkgmf6uPfqcF"
      }
    },
    {
      "cell_type": "code",
      "source": [
        "df['Date'] = pd.to_datetime(df['Date'])\n",
        "\n",
        "# Check if the conversion was done correctly\n",
        "df['Date'].info()"
      ],
      "metadata": {
        "id": "-f7v_Kcyg_c5",
        "outputId": "c793c332-2273-423a-84f6-60d1e235b54f",
        "colab": {
          "base_uri": "https://localhost:8080/"
        }
      },
      "execution_count": 14,
      "outputs": [
        {
          "output_type": "stream",
          "name": "stdout",
          "text": [
            "<class 'pandas.core.series.Series'>\n",
            "Int64Index: 740 entries, 0 to 753\n",
            "Series name: Date\n",
            "Non-Null Count  Dtype         \n",
            "--------------  -----         \n",
            "740 non-null    datetime64[ns]\n",
            "dtypes: datetime64[ns](1)\n",
            "memory usage: 11.6 KB\n"
          ]
        }
      ]
    },
    {
      "cell_type": "markdown",
      "source": [
        "Let's extract Month and Year components from `Date` column for subsequent analysis and visualization purposes."
      ],
      "metadata": {
        "id": "xrYjN6iVlokF"
      }
    },
    {
      "cell_type": "code",
      "source": [
        "date = pd.DatetimeIndex(df['Date'])\n",
        "\n",
        "# Extract month then convert it as an integer to the month name\n",
        "df['Month'] = date.month\n",
        "\n",
        "# Extract Year as Integer\n",
        "df['Year'] = date.year\n",
        "\n",
        "# Display data\n",
        "df.head()"
      ],
      "metadata": {
        "id": "eRFyNeIRkoOk",
        "outputId": "b27c1757-d38d-43fa-d8bd-7827241ea209",
        "colab": {
          "base_uri": "https://localhost:8080/",
          "height": 206
        }
      },
      "execution_count": 15,
      "outputs": [
        {
          "output_type": "execute_result",
          "data": {
            "text/plain": [
              "            State       Date Frequency   EUR          EE   ELPR   Area  Month  \\\n",
              "0  Andhra Pradesh 2019-05-31   Monthly  3.65  11999139.0  43.24  Rural      5   \n",
              "1  Andhra Pradesh 2019-06-30   Monthly  3.05  11755881.0  42.05  Rural      6   \n",
              "2  Andhra Pradesh 2019-07-31   Monthly  3.75  12086707.0  43.50  Rural      7   \n",
              "3  Andhra Pradesh 2019-08-31   Monthly  3.32  12285693.0  43.97  Rural      8   \n",
              "4  Andhra Pradesh 2019-09-30   Monthly  5.17  12256762.0  44.68  Rural      9   \n",
              "\n",
              "   Year  \n",
              "0  2019  \n",
              "1  2019  \n",
              "2  2019  \n",
              "3  2019  \n",
              "4  2019  "
            ],
            "text/html": [
              "\n",
              "  <div id=\"df-e13f5ef9-6c88-4f6f-8b0f-cab7052c9388\" class=\"colab-df-container\">\n",
              "    <div>\n",
              "<style scoped>\n",
              "    .dataframe tbody tr th:only-of-type {\n",
              "        vertical-align: middle;\n",
              "    }\n",
              "\n",
              "    .dataframe tbody tr th {\n",
              "        vertical-align: top;\n",
              "    }\n",
              "\n",
              "    .dataframe thead th {\n",
              "        text-align: right;\n",
              "    }\n",
              "</style>\n",
              "<table border=\"1\" class=\"dataframe\">\n",
              "  <thead>\n",
              "    <tr style=\"text-align: right;\">\n",
              "      <th></th>\n",
              "      <th>State</th>\n",
              "      <th>Date</th>\n",
              "      <th>Frequency</th>\n",
              "      <th>EUR</th>\n",
              "      <th>EE</th>\n",
              "      <th>ELPR</th>\n",
              "      <th>Area</th>\n",
              "      <th>Month</th>\n",
              "      <th>Year</th>\n",
              "    </tr>\n",
              "  </thead>\n",
              "  <tbody>\n",
              "    <tr>\n",
              "      <th>0</th>\n",
              "      <td>Andhra Pradesh</td>\n",
              "      <td>2019-05-31</td>\n",
              "      <td>Monthly</td>\n",
              "      <td>3.65</td>\n",
              "      <td>11999139.0</td>\n",
              "      <td>43.24</td>\n",
              "      <td>Rural</td>\n",
              "      <td>5</td>\n",
              "      <td>2019</td>\n",
              "    </tr>\n",
              "    <tr>\n",
              "      <th>1</th>\n",
              "      <td>Andhra Pradesh</td>\n",
              "      <td>2019-06-30</td>\n",
              "      <td>Monthly</td>\n",
              "      <td>3.05</td>\n",
              "      <td>11755881.0</td>\n",
              "      <td>42.05</td>\n",
              "      <td>Rural</td>\n",
              "      <td>6</td>\n",
              "      <td>2019</td>\n",
              "    </tr>\n",
              "    <tr>\n",
              "      <th>2</th>\n",
              "      <td>Andhra Pradesh</td>\n",
              "      <td>2019-07-31</td>\n",
              "      <td>Monthly</td>\n",
              "      <td>3.75</td>\n",
              "      <td>12086707.0</td>\n",
              "      <td>43.50</td>\n",
              "      <td>Rural</td>\n",
              "      <td>7</td>\n",
              "      <td>2019</td>\n",
              "    </tr>\n",
              "    <tr>\n",
              "      <th>3</th>\n",
              "      <td>Andhra Pradesh</td>\n",
              "      <td>2019-08-31</td>\n",
              "      <td>Monthly</td>\n",
              "      <td>3.32</td>\n",
              "      <td>12285693.0</td>\n",
              "      <td>43.97</td>\n",
              "      <td>Rural</td>\n",
              "      <td>8</td>\n",
              "      <td>2019</td>\n",
              "    </tr>\n",
              "    <tr>\n",
              "      <th>4</th>\n",
              "      <td>Andhra Pradesh</td>\n",
              "      <td>2019-09-30</td>\n",
              "      <td>Monthly</td>\n",
              "      <td>5.17</td>\n",
              "      <td>12256762.0</td>\n",
              "      <td>44.68</td>\n",
              "      <td>Rural</td>\n",
              "      <td>9</td>\n",
              "      <td>2019</td>\n",
              "    </tr>\n",
              "  </tbody>\n",
              "</table>\n",
              "</div>\n",
              "    <div class=\"colab-df-buttons\">\n",
              "\n",
              "  <div class=\"colab-df-container\">\n",
              "    <button class=\"colab-df-convert\" onclick=\"convertToInteractive('df-e13f5ef9-6c88-4f6f-8b0f-cab7052c9388')\"\n",
              "            title=\"Convert this dataframe to an interactive table.\"\n",
              "            style=\"display:none;\">\n",
              "\n",
              "  <svg xmlns=\"http://www.w3.org/2000/svg\" height=\"24px\" viewBox=\"0 -960 960 960\">\n",
              "    <path d=\"M120-120v-720h720v720H120Zm60-500h600v-160H180v160Zm220 220h160v-160H400v160Zm0 220h160v-160H400v160ZM180-400h160v-160H180v160Zm440 0h160v-160H620v160ZM180-180h160v-160H180v160Zm440 0h160v-160H620v160Z\"/>\n",
              "  </svg>\n",
              "    </button>\n",
              "\n",
              "  <style>\n",
              "    .colab-df-container {\n",
              "      display:flex;\n",
              "      gap: 12px;\n",
              "    }\n",
              "\n",
              "    .colab-df-convert {\n",
              "      background-color: #E8F0FE;\n",
              "      border: none;\n",
              "      border-radius: 50%;\n",
              "      cursor: pointer;\n",
              "      display: none;\n",
              "      fill: #1967D2;\n",
              "      height: 32px;\n",
              "      padding: 0 0 0 0;\n",
              "      width: 32px;\n",
              "    }\n",
              "\n",
              "    .colab-df-convert:hover {\n",
              "      background-color: #E2EBFA;\n",
              "      box-shadow: 0px 1px 2px rgba(60, 64, 67, 0.3), 0px 1px 3px 1px rgba(60, 64, 67, 0.15);\n",
              "      fill: #174EA6;\n",
              "    }\n",
              "\n",
              "    .colab-df-buttons div {\n",
              "      margin-bottom: 4px;\n",
              "    }\n",
              "\n",
              "    [theme=dark] .colab-df-convert {\n",
              "      background-color: #3B4455;\n",
              "      fill: #D2E3FC;\n",
              "    }\n",
              "\n",
              "    [theme=dark] .colab-df-convert:hover {\n",
              "      background-color: #434B5C;\n",
              "      box-shadow: 0px 1px 3px 1px rgba(0, 0, 0, 0.15);\n",
              "      filter: drop-shadow(0px 1px 2px rgba(0, 0, 0, 0.3));\n",
              "      fill: #FFFFFF;\n",
              "    }\n",
              "  </style>\n",
              "\n",
              "    <script>\n",
              "      const buttonEl =\n",
              "        document.querySelector('#df-e13f5ef9-6c88-4f6f-8b0f-cab7052c9388 button.colab-df-convert');\n",
              "      buttonEl.style.display =\n",
              "        google.colab.kernel.accessAllowed ? 'block' : 'none';\n",
              "\n",
              "      async function convertToInteractive(key) {\n",
              "        const element = document.querySelector('#df-e13f5ef9-6c88-4f6f-8b0f-cab7052c9388');\n",
              "        const dataTable =\n",
              "          await google.colab.kernel.invokeFunction('convertToInteractive',\n",
              "                                                    [key], {});\n",
              "        if (!dataTable) return;\n",
              "\n",
              "        const docLinkHtml = 'Like what you see? Visit the ' +\n",
              "          '<a target=\"_blank\" href=https://colab.research.google.com/notebooks/data_table.ipynb>data table notebook</a>'\n",
              "          + ' to learn more about interactive tables.';\n",
              "        element.innerHTML = '';\n",
              "        dataTable['output_type'] = 'display_data';\n",
              "        await google.colab.output.renderOutput(dataTable, element);\n",
              "        const docLink = document.createElement('div');\n",
              "        docLink.innerHTML = docLinkHtml;\n",
              "        element.appendChild(docLink);\n",
              "      }\n",
              "    </script>\n",
              "  </div>\n",
              "\n",
              "\n",
              "<div id=\"df-3a1d9168-96be-4c59-bb68-1bea2951c3c7\">\n",
              "  <button class=\"colab-df-quickchart\" onclick=\"quickchart('df-3a1d9168-96be-4c59-bb68-1bea2951c3c7')\"\n",
              "            title=\"Suggest charts.\"\n",
              "            style=\"display:none;\">\n",
              "\n",
              "<svg xmlns=\"http://www.w3.org/2000/svg\" height=\"24px\"viewBox=\"0 0 24 24\"\n",
              "     width=\"24px\">\n",
              "    <g>\n",
              "        <path d=\"M19 3H5c-1.1 0-2 .9-2 2v14c0 1.1.9 2 2 2h14c1.1 0 2-.9 2-2V5c0-1.1-.9-2-2-2zM9 17H7v-7h2v7zm4 0h-2V7h2v10zm4 0h-2v-4h2v4z\"/>\n",
              "    </g>\n",
              "</svg>\n",
              "  </button>\n",
              "\n",
              "<style>\n",
              "  .colab-df-quickchart {\n",
              "      --bg-color: #E8F0FE;\n",
              "      --fill-color: #1967D2;\n",
              "      --hover-bg-color: #E2EBFA;\n",
              "      --hover-fill-color: #174EA6;\n",
              "      --disabled-fill-color: #AAA;\n",
              "      --disabled-bg-color: #DDD;\n",
              "  }\n",
              "\n",
              "  [theme=dark] .colab-df-quickchart {\n",
              "      --bg-color: #3B4455;\n",
              "      --fill-color: #D2E3FC;\n",
              "      --hover-bg-color: #434B5C;\n",
              "      --hover-fill-color: #FFFFFF;\n",
              "      --disabled-bg-color: #3B4455;\n",
              "      --disabled-fill-color: #666;\n",
              "  }\n",
              "\n",
              "  .colab-df-quickchart {\n",
              "    background-color: var(--bg-color);\n",
              "    border: none;\n",
              "    border-radius: 50%;\n",
              "    cursor: pointer;\n",
              "    display: none;\n",
              "    fill: var(--fill-color);\n",
              "    height: 32px;\n",
              "    padding: 0;\n",
              "    width: 32px;\n",
              "  }\n",
              "\n",
              "  .colab-df-quickchart:hover {\n",
              "    background-color: var(--hover-bg-color);\n",
              "    box-shadow: 0 1px 2px rgba(60, 64, 67, 0.3), 0 1px 3px 1px rgba(60, 64, 67, 0.15);\n",
              "    fill: var(--button-hover-fill-color);\n",
              "  }\n",
              "\n",
              "  .colab-df-quickchart-complete:disabled,\n",
              "  .colab-df-quickchart-complete:disabled:hover {\n",
              "    background-color: var(--disabled-bg-color);\n",
              "    fill: var(--disabled-fill-color);\n",
              "    box-shadow: none;\n",
              "  }\n",
              "\n",
              "  .colab-df-spinner {\n",
              "    border: 2px solid var(--fill-color);\n",
              "    border-color: transparent;\n",
              "    border-bottom-color: var(--fill-color);\n",
              "    animation:\n",
              "      spin 1s steps(1) infinite;\n",
              "  }\n",
              "\n",
              "  @keyframes spin {\n",
              "    0% {\n",
              "      border-color: transparent;\n",
              "      border-bottom-color: var(--fill-color);\n",
              "      border-left-color: var(--fill-color);\n",
              "    }\n",
              "    20% {\n",
              "      border-color: transparent;\n",
              "      border-left-color: var(--fill-color);\n",
              "      border-top-color: var(--fill-color);\n",
              "    }\n",
              "    30% {\n",
              "      border-color: transparent;\n",
              "      border-left-color: var(--fill-color);\n",
              "      border-top-color: var(--fill-color);\n",
              "      border-right-color: var(--fill-color);\n",
              "    }\n",
              "    40% {\n",
              "      border-color: transparent;\n",
              "      border-right-color: var(--fill-color);\n",
              "      border-top-color: var(--fill-color);\n",
              "    }\n",
              "    60% {\n",
              "      border-color: transparent;\n",
              "      border-right-color: var(--fill-color);\n",
              "    }\n",
              "    80% {\n",
              "      border-color: transparent;\n",
              "      border-right-color: var(--fill-color);\n",
              "      border-bottom-color: var(--fill-color);\n",
              "    }\n",
              "    90% {\n",
              "      border-color: transparent;\n",
              "      border-bottom-color: var(--fill-color);\n",
              "    }\n",
              "  }\n",
              "</style>\n",
              "\n",
              "  <script>\n",
              "    async function quickchart(key) {\n",
              "      const quickchartButtonEl =\n",
              "        document.querySelector('#' + key + ' button');\n",
              "      quickchartButtonEl.disabled = true;  // To prevent multiple clicks.\n",
              "      quickchartButtonEl.classList.add('colab-df-spinner');\n",
              "      try {\n",
              "        const charts = await google.colab.kernel.invokeFunction(\n",
              "            'suggestCharts', [key], {});\n",
              "      } catch (error) {\n",
              "        console.error('Error during call to suggestCharts:', error);\n",
              "      }\n",
              "      quickchartButtonEl.classList.remove('colab-df-spinner');\n",
              "      quickchartButtonEl.classList.add('colab-df-quickchart-complete');\n",
              "    }\n",
              "    (() => {\n",
              "      let quickchartButtonEl =\n",
              "        document.querySelector('#df-3a1d9168-96be-4c59-bb68-1bea2951c3c7 button');\n",
              "      quickchartButtonEl.style.display =\n",
              "        google.colab.kernel.accessAllowed ? 'block' : 'none';\n",
              "    })();\n",
              "  </script>\n",
              "</div>\n",
              "    </div>\n",
              "  </div>\n"
            ]
          },
          "metadata": {},
          "execution_count": 15
        }
      ]
    },
    {
      "cell_type": "code",
      "source": [
        "# Drop Frequency column\n",
        "df = df.drop(columns = ['Frequency'])"
      ],
      "metadata": {
        "id": "YUlopVY-veij"
      },
      "execution_count": 16,
      "outputs": []
    },
    {
      "cell_type": "code",
      "source": [
        "df['State'].nunique()     # There are 28 states"
      ],
      "metadata": {
        "colab": {
          "base_uri": "https://localhost:8080/"
        },
        "id": "Q4Bef-uTsDDr",
        "outputId": "5ac00123-c201-42db-fa99-09032f3a69fe"
      },
      "execution_count": 17,
      "outputs": [
        {
          "output_type": "execute_result",
          "data": {
            "text/plain": [
              "28"
            ]
          },
          "metadata": {},
          "execution_count": 17
        }
      ]
    },
    {
      "cell_type": "code",
      "source": [
        "df['Area'].nunique()     # There are two areas : Rural & Urban"
      ],
      "metadata": {
        "colab": {
          "base_uri": "https://localhost:8080/"
        },
        "id": "Xvaf6Y8etG6i",
        "outputId": "d3c5a7cf-6402-4e44-eb21-2d378bb1153a"
      },
      "execution_count": 18,
      "outputs": [
        {
          "output_type": "execute_result",
          "data": {
            "text/plain": [
              "2"
            ]
          },
          "metadata": {},
          "execution_count": 18
        }
      ]
    },
    {
      "cell_type": "markdown",
      "source": [
        "* `Rural Area` refers to regions that are characterized by low population density and a predominantly agricultural or natural environment.\n",
        "\n",
        "* `Urban Area` refers to regions that are characterized by high population density, extensive built-up environments, and a concentration of residential, commercial, and industrial facilities."
      ],
      "metadata": {
        "id": "MrHYKvkQtvfK"
      }
    },
    {
      "cell_type": "code",
      "source": [
        "df['Year'].unique()"
      ],
      "metadata": {
        "colab": {
          "base_uri": "https://localhost:8080/"
        },
        "id": "-J4Kmpm_tW-f",
        "outputId": "993748a2-9a90-49b8-81d2-e0f0009a6d78"
      },
      "execution_count": 19,
      "outputs": [
        {
          "output_type": "execute_result",
          "data": {
            "text/plain": [
              "array([2019, 2020])"
            ]
          },
          "metadata": {},
          "execution_count": 19
        }
      ]
    },
    {
      "cell_type": "code",
      "source": [
        "print('Print the unique values of the \"Month\" column in a DataFrame df for the years 2019 and 2020.')\n",
        "\n",
        "print('2019 \\t', df['Month'][df['Year'] == 2019].unique())\n",
        "print('2020 \\t', df['Month'][df['Year'] == 2020].unique())"
      ],
      "metadata": {
        "colab": {
          "base_uri": "https://localhost:8080/"
        },
        "id": "5xBOnslJ0npU",
        "outputId": "6a533f46-17bc-4f25-bd71-0a1658845948"
      },
      "execution_count": 20,
      "outputs": [
        {
          "output_type": "stream",
          "name": "stdout",
          "text": [
            "Print the unique values of the \"Month\" column in a DataFrame df for the years 2019 and 2020.\n",
            "2019 \t [ 5  6  7  8  9 10 11 12]\n",
            "2020 \t [1 2 3 4 5 6]\n"
          ]
        }
      ]
    },
    {
      "cell_type": "markdown",
      "source": [
        "`During the period from May 2019 to June 2020, which coincided with the global outbreak of the Covid-19 pandemic...`"
      ],
      "metadata": {
        "id": "EhtHHYfuEKfG"
      }
    },
    {
      "cell_type": "code",
      "source": [
        "# Basic statistical analysis\n",
        "df.describe()"
      ],
      "metadata": {
        "colab": {
          "base_uri": "https://localhost:8080/",
          "height": 300
        },
        "id": "8khD4tP7Uijl",
        "outputId": "cd862009-eaee-4e7d-ac6d-9a273097e5ee"
      },
      "execution_count": 21,
      "outputs": [
        {
          "output_type": "execute_result",
          "data": {
            "text/plain": [
              "              EUR            EE        ELPR       Month         Year\n",
              "count  740.000000  7.400000e+02  740.000000  740.000000   740.000000\n",
              "mean    11.787946  7.204460e+06   42.630122    6.390541  2019.418919\n",
              "std     10.721298  8.087988e+06    8.111094    3.235070     0.493716\n",
              "min      0.000000  4.942000e+04   13.330000    1.000000  2019.000000\n",
              "25%      4.657500  1.190404e+06   38.062500    4.000000  2019.000000\n",
              "50%      8.350000  4.744178e+06   41.160000    6.000000  2019.000000\n",
              "75%     15.887500  1.127549e+07   45.505000    9.000000  2020.000000\n",
              "max     76.740000  4.577751e+07   72.570000   12.000000  2020.000000"
            ],
            "text/html": [
              "\n",
              "  <div id=\"df-dfb38248-1b43-4731-ba04-a7bcb6548375\" class=\"colab-df-container\">\n",
              "    <div>\n",
              "<style scoped>\n",
              "    .dataframe tbody tr th:only-of-type {\n",
              "        vertical-align: middle;\n",
              "    }\n",
              "\n",
              "    .dataframe tbody tr th {\n",
              "        vertical-align: top;\n",
              "    }\n",
              "\n",
              "    .dataframe thead th {\n",
              "        text-align: right;\n",
              "    }\n",
              "</style>\n",
              "<table border=\"1\" class=\"dataframe\">\n",
              "  <thead>\n",
              "    <tr style=\"text-align: right;\">\n",
              "      <th></th>\n",
              "      <th>EUR</th>\n",
              "      <th>EE</th>\n",
              "      <th>ELPR</th>\n",
              "      <th>Month</th>\n",
              "      <th>Year</th>\n",
              "    </tr>\n",
              "  </thead>\n",
              "  <tbody>\n",
              "    <tr>\n",
              "      <th>count</th>\n",
              "      <td>740.000000</td>\n",
              "      <td>7.400000e+02</td>\n",
              "      <td>740.000000</td>\n",
              "      <td>740.000000</td>\n",
              "      <td>740.000000</td>\n",
              "    </tr>\n",
              "    <tr>\n",
              "      <th>mean</th>\n",
              "      <td>11.787946</td>\n",
              "      <td>7.204460e+06</td>\n",
              "      <td>42.630122</td>\n",
              "      <td>6.390541</td>\n",
              "      <td>2019.418919</td>\n",
              "    </tr>\n",
              "    <tr>\n",
              "      <th>std</th>\n",
              "      <td>10.721298</td>\n",
              "      <td>8.087988e+06</td>\n",
              "      <td>8.111094</td>\n",
              "      <td>3.235070</td>\n",
              "      <td>0.493716</td>\n",
              "    </tr>\n",
              "    <tr>\n",
              "      <th>min</th>\n",
              "      <td>0.000000</td>\n",
              "      <td>4.942000e+04</td>\n",
              "      <td>13.330000</td>\n",
              "      <td>1.000000</td>\n",
              "      <td>2019.000000</td>\n",
              "    </tr>\n",
              "    <tr>\n",
              "      <th>25%</th>\n",
              "      <td>4.657500</td>\n",
              "      <td>1.190404e+06</td>\n",
              "      <td>38.062500</td>\n",
              "      <td>4.000000</td>\n",
              "      <td>2019.000000</td>\n",
              "    </tr>\n",
              "    <tr>\n",
              "      <th>50%</th>\n",
              "      <td>8.350000</td>\n",
              "      <td>4.744178e+06</td>\n",
              "      <td>41.160000</td>\n",
              "      <td>6.000000</td>\n",
              "      <td>2019.000000</td>\n",
              "    </tr>\n",
              "    <tr>\n",
              "      <th>75%</th>\n",
              "      <td>15.887500</td>\n",
              "      <td>1.127549e+07</td>\n",
              "      <td>45.505000</td>\n",
              "      <td>9.000000</td>\n",
              "      <td>2020.000000</td>\n",
              "    </tr>\n",
              "    <tr>\n",
              "      <th>max</th>\n",
              "      <td>76.740000</td>\n",
              "      <td>4.577751e+07</td>\n",
              "      <td>72.570000</td>\n",
              "      <td>12.000000</td>\n",
              "      <td>2020.000000</td>\n",
              "    </tr>\n",
              "  </tbody>\n",
              "</table>\n",
              "</div>\n",
              "    <div class=\"colab-df-buttons\">\n",
              "\n",
              "  <div class=\"colab-df-container\">\n",
              "    <button class=\"colab-df-convert\" onclick=\"convertToInteractive('df-dfb38248-1b43-4731-ba04-a7bcb6548375')\"\n",
              "            title=\"Convert this dataframe to an interactive table.\"\n",
              "            style=\"display:none;\">\n",
              "\n",
              "  <svg xmlns=\"http://www.w3.org/2000/svg\" height=\"24px\" viewBox=\"0 -960 960 960\">\n",
              "    <path d=\"M120-120v-720h720v720H120Zm60-500h600v-160H180v160Zm220 220h160v-160H400v160Zm0 220h160v-160H400v160ZM180-400h160v-160H180v160Zm440 0h160v-160H620v160ZM180-180h160v-160H180v160Zm440 0h160v-160H620v160Z\"/>\n",
              "  </svg>\n",
              "    </button>\n",
              "\n",
              "  <style>\n",
              "    .colab-df-container {\n",
              "      display:flex;\n",
              "      gap: 12px;\n",
              "    }\n",
              "\n",
              "    .colab-df-convert {\n",
              "      background-color: #E8F0FE;\n",
              "      border: none;\n",
              "      border-radius: 50%;\n",
              "      cursor: pointer;\n",
              "      display: none;\n",
              "      fill: #1967D2;\n",
              "      height: 32px;\n",
              "      padding: 0 0 0 0;\n",
              "      width: 32px;\n",
              "    }\n",
              "\n",
              "    .colab-df-convert:hover {\n",
              "      background-color: #E2EBFA;\n",
              "      box-shadow: 0px 1px 2px rgba(60, 64, 67, 0.3), 0px 1px 3px 1px rgba(60, 64, 67, 0.15);\n",
              "      fill: #174EA6;\n",
              "    }\n",
              "\n",
              "    .colab-df-buttons div {\n",
              "      margin-bottom: 4px;\n",
              "    }\n",
              "\n",
              "    [theme=dark] .colab-df-convert {\n",
              "      background-color: #3B4455;\n",
              "      fill: #D2E3FC;\n",
              "    }\n",
              "\n",
              "    [theme=dark] .colab-df-convert:hover {\n",
              "      background-color: #434B5C;\n",
              "      box-shadow: 0px 1px 3px 1px rgba(0, 0, 0, 0.15);\n",
              "      filter: drop-shadow(0px 1px 2px rgba(0, 0, 0, 0.3));\n",
              "      fill: #FFFFFF;\n",
              "    }\n",
              "  </style>\n",
              "\n",
              "    <script>\n",
              "      const buttonEl =\n",
              "        document.querySelector('#df-dfb38248-1b43-4731-ba04-a7bcb6548375 button.colab-df-convert');\n",
              "      buttonEl.style.display =\n",
              "        google.colab.kernel.accessAllowed ? 'block' : 'none';\n",
              "\n",
              "      async function convertToInteractive(key) {\n",
              "        const element = document.querySelector('#df-dfb38248-1b43-4731-ba04-a7bcb6548375');\n",
              "        const dataTable =\n",
              "          await google.colab.kernel.invokeFunction('convertToInteractive',\n",
              "                                                    [key], {});\n",
              "        if (!dataTable) return;\n",
              "\n",
              "        const docLinkHtml = 'Like what you see? Visit the ' +\n",
              "          '<a target=\"_blank\" href=https://colab.research.google.com/notebooks/data_table.ipynb>data table notebook</a>'\n",
              "          + ' to learn more about interactive tables.';\n",
              "        element.innerHTML = '';\n",
              "        dataTable['output_type'] = 'display_data';\n",
              "        await google.colab.output.renderOutput(dataTable, element);\n",
              "        const docLink = document.createElement('div');\n",
              "        docLink.innerHTML = docLinkHtml;\n",
              "        element.appendChild(docLink);\n",
              "      }\n",
              "    </script>\n",
              "  </div>\n",
              "\n",
              "\n",
              "<div id=\"df-4f7b1e8e-5219-4c9b-9842-105d1968fa7d\">\n",
              "  <button class=\"colab-df-quickchart\" onclick=\"quickchart('df-4f7b1e8e-5219-4c9b-9842-105d1968fa7d')\"\n",
              "            title=\"Suggest charts.\"\n",
              "            style=\"display:none;\">\n",
              "\n",
              "<svg xmlns=\"http://www.w3.org/2000/svg\" height=\"24px\"viewBox=\"0 0 24 24\"\n",
              "     width=\"24px\">\n",
              "    <g>\n",
              "        <path d=\"M19 3H5c-1.1 0-2 .9-2 2v14c0 1.1.9 2 2 2h14c1.1 0 2-.9 2-2V5c0-1.1-.9-2-2-2zM9 17H7v-7h2v7zm4 0h-2V7h2v10zm4 0h-2v-4h2v4z\"/>\n",
              "    </g>\n",
              "</svg>\n",
              "  </button>\n",
              "\n",
              "<style>\n",
              "  .colab-df-quickchart {\n",
              "      --bg-color: #E8F0FE;\n",
              "      --fill-color: #1967D2;\n",
              "      --hover-bg-color: #E2EBFA;\n",
              "      --hover-fill-color: #174EA6;\n",
              "      --disabled-fill-color: #AAA;\n",
              "      --disabled-bg-color: #DDD;\n",
              "  }\n",
              "\n",
              "  [theme=dark] .colab-df-quickchart {\n",
              "      --bg-color: #3B4455;\n",
              "      --fill-color: #D2E3FC;\n",
              "      --hover-bg-color: #434B5C;\n",
              "      --hover-fill-color: #FFFFFF;\n",
              "      --disabled-bg-color: #3B4455;\n",
              "      --disabled-fill-color: #666;\n",
              "  }\n",
              "\n",
              "  .colab-df-quickchart {\n",
              "    background-color: var(--bg-color);\n",
              "    border: none;\n",
              "    border-radius: 50%;\n",
              "    cursor: pointer;\n",
              "    display: none;\n",
              "    fill: var(--fill-color);\n",
              "    height: 32px;\n",
              "    padding: 0;\n",
              "    width: 32px;\n",
              "  }\n",
              "\n",
              "  .colab-df-quickchart:hover {\n",
              "    background-color: var(--hover-bg-color);\n",
              "    box-shadow: 0 1px 2px rgba(60, 64, 67, 0.3), 0 1px 3px 1px rgba(60, 64, 67, 0.15);\n",
              "    fill: var(--button-hover-fill-color);\n",
              "  }\n",
              "\n",
              "  .colab-df-quickchart-complete:disabled,\n",
              "  .colab-df-quickchart-complete:disabled:hover {\n",
              "    background-color: var(--disabled-bg-color);\n",
              "    fill: var(--disabled-fill-color);\n",
              "    box-shadow: none;\n",
              "  }\n",
              "\n",
              "  .colab-df-spinner {\n",
              "    border: 2px solid var(--fill-color);\n",
              "    border-color: transparent;\n",
              "    border-bottom-color: var(--fill-color);\n",
              "    animation:\n",
              "      spin 1s steps(1) infinite;\n",
              "  }\n",
              "\n",
              "  @keyframes spin {\n",
              "    0% {\n",
              "      border-color: transparent;\n",
              "      border-bottom-color: var(--fill-color);\n",
              "      border-left-color: var(--fill-color);\n",
              "    }\n",
              "    20% {\n",
              "      border-color: transparent;\n",
              "      border-left-color: var(--fill-color);\n",
              "      border-top-color: var(--fill-color);\n",
              "    }\n",
              "    30% {\n",
              "      border-color: transparent;\n",
              "      border-left-color: var(--fill-color);\n",
              "      border-top-color: var(--fill-color);\n",
              "      border-right-color: var(--fill-color);\n",
              "    }\n",
              "    40% {\n",
              "      border-color: transparent;\n",
              "      border-right-color: var(--fill-color);\n",
              "      border-top-color: var(--fill-color);\n",
              "    }\n",
              "    60% {\n",
              "      border-color: transparent;\n",
              "      border-right-color: var(--fill-color);\n",
              "    }\n",
              "    80% {\n",
              "      border-color: transparent;\n",
              "      border-right-color: var(--fill-color);\n",
              "      border-bottom-color: var(--fill-color);\n",
              "    }\n",
              "    90% {\n",
              "      border-color: transparent;\n",
              "      border-bottom-color: var(--fill-color);\n",
              "    }\n",
              "  }\n",
              "</style>\n",
              "\n",
              "  <script>\n",
              "    async function quickchart(key) {\n",
              "      const quickchartButtonEl =\n",
              "        document.querySelector('#' + key + ' button');\n",
              "      quickchartButtonEl.disabled = true;  // To prevent multiple clicks.\n",
              "      quickchartButtonEl.classList.add('colab-df-spinner');\n",
              "      try {\n",
              "        const charts = await google.colab.kernel.invokeFunction(\n",
              "            'suggestCharts', [key], {});\n",
              "      } catch (error) {\n",
              "        console.error('Error during call to suggestCharts:', error);\n",
              "      }\n",
              "      quickchartButtonEl.classList.remove('colab-df-spinner');\n",
              "      quickchartButtonEl.classList.add('colab-df-quickchart-complete');\n",
              "    }\n",
              "    (() => {\n",
              "      let quickchartButtonEl =\n",
              "        document.querySelector('#df-4f7b1e8e-5219-4c9b-9842-105d1968fa7d button');\n",
              "      quickchartButtonEl.style.display =\n",
              "        google.colab.kernel.accessAllowed ? 'block' : 'none';\n",
              "    })();\n",
              "  </script>\n",
              "</div>\n",
              "    </div>\n",
              "  </div>\n"
            ]
          },
          "metadata": {},
          "execution_count": 21
        }
      ]
    },
    {
      "cell_type": "markdown",
      "source": [
        "<u>`Comments :`</u>\n",
        "* `Estimated Unemployment Rate`\n",
        "\n",
        "  * The min UR of 0% suggests that there are states where there is no unemployment;\n",
        "\n",
        "  * The max UR of 76.74% suggests the presence of states with extremely high unemployment rates;\n",
        "\n",
        "* `Estimated Employed`\n",
        "\n",
        "  * The presence of a relatively low min value (49,420) suggests the existence of states with low levels of employment;\n",
        "\n",
        "  * The max value (45.78 million) suggests the presence of states with a high level of employment, which could indicate robust economic conditions or large population sizes.\n",
        "\n",
        "* `Estimated Labor Population Rate`\n",
        "\n",
        "  * The min LPR of 13.33% suggests states where a relatively small proportion of the population is actively participating in the labor force.\n",
        "\n",
        "  * The max LPR of 72.57% indicates states with a higher level of labor force engagement, which could indicate strong labor market conditions or specific demographic characteristics.\n",
        "\n",
        "* The mean estimated unemployment rate is high `11.787946`.\n",
        "\n",
        "* `The high unemployment rate could be attributed to the economic disruptions caused by the pandemic, such as lockdowns, reduced economic activity, and job losses in various sectors.`"
      ],
      "metadata": {
        "id": "tb2qOH95cASU"
      }
    },
    {
      "cell_type": "code",
      "source": [
        "# Outlier detection\n",
        "colors = ['lightblue', 'lightgreen', 'lightcoral']\n",
        "\n",
        "# Create a figure with three subplots\n",
        "plt.figure(figsize=(12, 6))\n",
        "\n",
        "# Subplot 1: Unemployment Rate\n",
        "plt.subplot(131)\n",
        "df.boxplot(column='EUR', patch_artist=True)\n",
        "plt.gca().get_children()[0].set_facecolor(colors[0])  # Set the color of the first box\n",
        "plt.title('Unemployment Rate')\n",
        "\n",
        "# Subplot 2: Employed\n",
        "plt.subplot(132)\n",
        "df.boxplot(column='EE', patch_artist=True)\n",
        "plt.gca().get_children()[0].set_facecolor(colors[1])  # Set the color of the second box\n",
        "plt.title('Employed')\n",
        "\n",
        "# Subplot 3: Labor Participation Rate\n",
        "plt.subplot(133)\n",
        "df.boxplot(column='ELPR', patch_artist=True)\n",
        "plt.gca().get_children()[0].set_facecolor(colors[2])  # Set the color of the third box\n",
        "plt.title('Labor Participation Rate')\n",
        "\n",
        "plt.tight_layout()\n",
        "plt.show()"
      ],
      "metadata": {
        "id": "wLJL6LaUDHUi",
        "outputId": "d5c12f29-4709-477a-f880-d3e467e2a2d2",
        "colab": {
          "base_uri": "https://localhost:8080/",
          "height": 607
        }
      },
      "execution_count": 22,
      "outputs": [
        {
          "output_type": "display_data",
          "data": {
            "text/plain": [
              "<Figure size 1200x600 with 3 Axes>"
            ],
            "image/png": "[encoded data removed]"
          },
          "metadata": {}
        }
      ]
    },
    {
      "cell_type": "markdown",
      "source": [
        "<u>`Comment :`</u>\n",
        "\n",
        "Presence of outliers are detected. Since we are analyzing the unemployment during Covid-19 the extreme values in the data are indicative of genuine structural changes or such events therefore we wont remove it."
      ],
      "metadata": {
        "id": "w9dLOTJOMAmX"
      }
    },
    {
      "cell_type": "code",
      "source": [
        "# Calculate the average EUR for each State\n",
        "state_mean_eur = df[['State', 'EUR']].groupby('State').mean()\n",
        "\n",
        "# Plotting the bar chart\n",
        "plt.figure(figsize=(18, 6))\n",
        "plt.bar(state_mean_eur.index, state_mean_eur['EUR'])\n",
        "\n",
        "# Add labels and title\n",
        "plt.xlabel('State')\n",
        "plt.ylabel('Average EUR')\n",
        "plt.title('State Wise Rate of Unemployment')\n",
        "\n",
        "# Rotate x-axis labels for better readability\n",
        "plt.xticks(rotation=75)\n",
        "\n",
        "# Display the plot\n",
        "plt.show()"
      ],
      "metadata": {
        "colab": {
          "base_uri": "https://localhost:8080/",
          "height": 603
        },
        "id": "pp5QtHxAcFGS",
        "outputId": "62bac283-1044-4f87-f2e2-cd3b31bdf3b8"
      },
      "execution_count": 23,
      "outputs": [
        {
          "output_type": "display_data",
          "data": {
            "text/plain": [
              "<Figure size 1800x600 with 1 Axes>"
            ],
            "image/png": "[encoded data removed]"
          },
          "metadata": {}
        }
      ]
    },
    {
      "cell_type": "markdown",
      "source": [
        "<u>`Comments :`</u>\n",
        "\n",
        "* Among the states, `Tripura` exhibits the highest average EUR of 28.35%.\n",
        "\n",
        "* Conversely, `Meghalaya` demonstrates the lowest average EUR, with a value of approximately 4.80%."
      ],
      "metadata": {
        "id": "keyZisu3SFjB"
      }
    },
    {
      "cell_type": "code",
      "source": [
        "df.info()"
      ],
      "metadata": {
        "colab": {
          "base_uri": "https://localhost:8080/"
        },
        "id": "FfAjFH3ShROJ",
        "outputId": "005a274e-a482-4eae-d48c-c3878efa65de"
      },
      "execution_count": 24,
      "outputs": [
        {
          "output_type": "stream",
          "name": "stdout",
          "text": [
            "<class 'pandas.core.frame.DataFrame'>\n",
            "Int64Index: 740 entries, 0 to 753\n",
            "Data columns (total 8 columns):\n",
            " #   Column  Non-Null Count  Dtype         \n",
            "---  ------  --------------  -----         \n",
            " 0   State   740 non-null    object        \n",
            " 1   Date    740 non-null    datetime64[ns]\n",
            " 2   EUR     740 non-null    float64       \n",
            " 3   EE      740 non-null    float64       \n",
            " 4   ELPR    740 non-null    float64       \n",
            " 5   Area    740 non-null    object        \n",
            " 6   Month   740 non-null    int64         \n",
            " 7   Year    740 non-null    int64         \n",
            "dtypes: datetime64[ns](1), float64(3), int64(2), object(2)\n",
            "memory usage: 52.0+ KB\n"
          ]
        }
      ]
    },
    {
      "cell_type": "code",
      "source": [
        "import matplotlib.pyplot as plt\n",
        "\n",
        "# Assuming the DataFrame has a 'Month' column with month names and 'EUR' column\n",
        "\n",
        "# Calculate the average EUR for each month\n",
        "month_mean_eur = df.groupby('Month')['EUR'].mean()\n",
        "\n",
        "# Find the month with the maximum average EUR\n",
        "max_month = month_mean_eur.idxmax()\n",
        "\n",
        "# Plotting the bar chart\n",
        "plt.bar(month_mean_eur.index, month_mean_eur)\n",
        "\n",
        "# Add labels and title\n",
        "plt.xlabel('Month')\n",
        "plt.ylabel('Average EUR')\n",
        "plt.title('Average Estimated Unemployment Rate by Month')\n",
        "\n",
        "# Highlight the month with the maximum average EUR\n",
        "plt.axvline(x=max_month, color='red', label=f'Max: {max_month}')\n",
        "\n",
        "# Display the plot\n",
        "plt.show()"
      ],
      "metadata": {
        "id": "XnUIMIvjUjrL",
        "outputId": "52bc00af-220d-452f-9099-2b7e861592b7",
        "colab": {
          "base_uri": "https://localhost:8080/",
          "height": 472
        }
      },
      "execution_count": 25,
      "outputs": [
        {
          "output_type": "display_data",
          "data": {
            "text/plain": [
              "<Figure size 640x480 with 1 Axes>"
            ],
            "image/png": "[encoded data removed]"
          },
          "metadata": {}
        }
      ]
    },
    {
      "cell_type": "markdown",
      "source": [
        "<u>`Comments :`</u>\n",
        "\n",
        "The month with the highest average EUR is highlighted with a red line `(April)`. This month represents the peak or maximum level of unemployment during the observed period."
      ],
      "metadata": {
        "id": "fVED7sIGeWoo"
      }
    },
    {
      "cell_type": "code",
      "source": [
        "df.groupby(\"Area\").size()     # Balanced dataset"
      ],
      "metadata": {
        "colab": {
          "base_uri": "https://localhost:8080/"
        },
        "id": "JHg_jLoPmAxg",
        "outputId": "e3243790-7add-4db8-b5bc-ddbb430a4b3b"
      },
      "execution_count": 26,
      "outputs": [
        {
          "output_type": "execute_result",
          "data": {
            "text/plain": [
              "Area\n",
              "Rural    359\n",
              "Urban    381\n",
              "dtype: int64"
            ]
          },
          "metadata": {},
          "execution_count": 26
        }
      ]
    },
    {
      "cell_type": "code",
      "source": [
        "unemployment = df[[\"State\", \"Area\", \"EUR\"]]\n",
        "figure = px.sunburst(unemployment, path=[\"Area\", \"State\"],\n",
        "                     values=\"EUR\",\n",
        "                     width=700, height=700, color_continuous_scale=\"RdY2Gn\",\n",
        "                     title=\"Estimated Unemployment Rate\")\n",
        "figure.show()"
      ],
      "metadata": {
        "id": "WdhVzcb7Utpf",
        "outputId": "6fa38b09-e599-4050-bb0d-1d97f7c5c219",
        "colab": {
          "base_uri": "https://localhost:8080/",
          "height": 717
        }
      },
      "execution_count": 27,
      "outputs": [
        {
          "output_type": "display_data",
          "data": {
            "text/html": [
              "<html>\n",
              "<head><meta charset=\"utf-8\" /></head>\n",
              "<body>\n",
              "    <div>            <script src=\"https://cdnjs.cloudflare.com/ajax/libs/mathjax/2.7.5/MathJax.js?config=TeX-AMS-MML_SVG\"></script><script type=\"text/javascript\">if (window.MathJax && window.MathJax.Hub && window.MathJax.Hub.Config) {window.MathJax.Hub.Config({SVG: {font: \"STIX-Web\"}});}</script>                <script type=\"text/javascript\">window.PlotlyConfig = {MathJaxConfig: 'local'};</script>\n",
              "        <script charset=\"utf-8\" src=\"https://cdn.plot.ly/plotly-2.24.1.min.js\"></script>                <div id=\"9fab374d-fcb2-446d-bd81-9fcad4a9574f\" class=\"plotly-graph-div\" style=\"height:700px; width:700px;\"></div>            <script type=\"text/javascript\">                                    window.PLOTLYENV=window.PLOTLYENV || {};                                    if (document.getElementById(\"9fab374d-fcb2-446d-bd81-9fcad4a9574f\")) {                    Plotly.newPlot(                        \"9fab374d-fcb2-446d-bd81-9fcad4a9574f\",                        [{\"branchvalues\":\"total\",\"domain\":{\"x\":[0.0,1.0],\"y\":[0.0,1.0]},\"hovertemplate\":\"labels=%{label}\\u003cbr\\u003eEUR=%{value}\\u003cbr\\u003eparent=%{parent}\\u003cbr\\u003eid=%{id}\\u003cextra\\u003e\\u003c\\u002fextra\\u003e\",\"ids\":[\"Rural\\u002fAndhra Pradesh\",\"Urban\\u002fAndhra Pradesh\",\"Rural\\u002fAssam\",\"Urban\\u002fAssam\",\"Rural\\u002fBihar\",\"Urban\\u002fBihar\",\"Urban\\u002fChandigarh\",\"Rural\\u002fChhattisgarh\",\"Urban\\u002fChhattisgarh\",\"Rural\\u002fDelhi\",\"Urban\\u002fDelhi\",\"Rural\\u002fGoa\",\"Urban\\u002fGoa\",\"Rural\\u002fGujarat\",\"Urban\\u002fGujarat\",\"Rural\\u002fHaryana\",\"Urban\\u002fHaryana\",\"Rural\\u002fHimachal Pradesh\",\"Urban\\u002fHimachal Pradesh\",\"Rural\\u002fJammu & Kashmir\",\"Urban\\u002fJammu & Kashmir\",\"Rural\\u002fJharkhand\",\"Urban\\u002fJharkhand\",\"Rural\\u002fKarnataka\",\"Urban\\u002fKarnataka\",\"Rural\\u002fKerala\",\"Urban\\u002fKerala\",\"Rural\\u002fMadhya Pradesh\",\"Urban\\u002fMadhya Pradesh\",\"Rural\\u002fMaharashtra\",\"Urban\\u002fMaharashtra\",\"Rural\\u002fMeghalaya\",\"Urban\\u002fMeghalaya\",\"Rural\\u002fOdisha\",\"Urban\\u002fOdisha\",\"Rural\\u002fPuducherry\",\"Urban\\u002fPuducherry\",\"Rural\\u002fPunjab\",\"Urban\\u002fPunjab\",\"Rural\\u002fRajasthan\",\"Urban\\u002fRajasthan\",\"Rural\\u002fSikkim\",\"Urban\\u002fSikkim\",\"Rural\\u002fTamil Nadu\",\"Urban\\u002fTamil Nadu\",\"Rural\\u002fTelangana\",\"Urban\\u002fTelangana\",\"Rural\\u002fTripura\",\"Urban\\u002fTripura\",\"Rural\\u002fUttar Pradesh\",\"Urban\\u002fUttar Pradesh\",\"Rural\\u002fUttarakhand\",\"Urban\\u002fUttarakhand\",\"Rural\\u002fWest Bengal\",\"Urban\\u002fWest Bengal\",\"Rural\",\"Urban\"],\"labels\":[\"Andhra Pradesh\",\"Andhra Pradesh\",\"Assam\",\"Assam\",\"Bihar\",\"Bihar\",\"Chandigarh\",\"Chhattisgarh\",\"Chhattisgarh\",\"Delhi\",\"Delhi\",\"Goa\",\"Goa\",\"Gujarat\",\"Gujarat\",\"Haryana\",\"Haryana\",\"Himachal Pradesh\",\"Himachal Pradesh\",\"Jammu & Kashmir\",\"Jammu & Kashmir\",\"Jharkhand\",\"Jharkhand\",\"Karnataka\",\"Karnataka\",\"Kerala\",\"Kerala\",\"Madhya Pradesh\",\"Madhya Pradesh\",\"Maharashtra\",\"Maharashtra\",\"Meghalaya\",\"Meghalaya\",\"Odisha\",\"Odisha\",\"Puducherry\",\"Puducherry\",\"Punjab\",\"Punjab\",\"Rajasthan\",\"Rajasthan\",\"Sikkim\",\"Sikkim\",\"Tamil Nadu\",\"Tamil Nadu\",\"Telangana\",\"Telangana\",\"Tripura\",\"Tripura\",\"Uttar Pradesh\",\"Uttar Pradesh\",\"Uttarakhand\",\"Uttarakhand\",\"West Bengal\",\"West Bengal\",\"Rural\",\"Urban\"],\"name\":\"\",\"parents\":[\"Rural\",\"Urban\",\"Rural\",\"Urban\",\"Rural\",\"Urban\",\"Urban\",\"Rural\",\"Urban\",\"Rural\",\"Urban\",\"Rural\",\"Urban\",\"Rural\",\"Urban\",\"Rural\",\"Urban\",\"Rural\",\"Urban\",\"Rural\",\"Urban\",\"Rural\",\"Urban\",\"Rural\",\"Urban\",\"Rural\",\"Urban\",\"Rural\",\"Urban\",\"Rural\",\"Urban\",\"Rural\",\"Urban\",\"Rural\",\"Urban\",\"Rural\",\"Urban\",\"Rural\",\"Urban\",\"Rural\",\"Urban\",\"Rural\",\"Urban\",\"Rural\",\"Urban\",\"Rural\",\"Urban\",\"Rural\",\"Urban\",\"Rural\",\"Urban\",\"Rural\",\"Urban\",\"Rural\",\"Urban\",\"\",\"\"],\"values\":[77.37,131.99,53.89,113.24000000000001,234.78,294.93,191.9,92.8,165.93,213.62,248.25,100.68,121.9,82.84,103.75,350.18,385.75,217.06,302.07,164.47,175.49,213.1,363.28000000000003,101.14,85.79,144.78,138.69,79.15,128.23000000000002,95.34,116.27,34.650000000000006,94.92,92.58,65.84,87.16,178.43,166.95,169.92000000000002,152.98,240.65,25.4,97.84,122.86,137.1,110.09,106.57000000000001,380.33,413.48,142.92000000000002,208.52,63.47,114.27,106.01,121.48,3706.6,5016.48],\"type\":\"sunburst\"}],                        {\"template\":{\"data\":{\"histogram2dcontour\":[{\"type\":\"histogram2dcontour\",\"colorbar\":{\"outlinewidth\":0,\"ticks\":\"\"},\"colorscale\":[[0.0,\"#0d0887\"],[0.1111111111111111,\"#46039f\"],[0.2222222222222222,\"#7201a8\"],[0.3333333333333333,\"#9c179e\"],[0.4444444444444444,\"#bd3786\"],[0.5555555555555556,\"#d8576b\"],[0.6666666666666666,\"#ed7953\"],[0.7777777777777778,\"#fb9f3a\"],[0.8888888888888888,\"#fdca26\"],[1.0,\"#f0f921\"]]}],\"choropleth\":[{\"type\":\"choropleth\",\"colorbar\":{\"outlinewidth\":0,\"ticks\":\"\"}}],\"histogram2d\":[{\"type\":\"histogram2d\",\"colorbar\":{\"outlinewidth\":0,\"ticks\":\"\"},\"colorscale\":[[0.0,\"#0d0887\"],[0.1111111111111111,\"#46039f\"],[0.2222222222222222,\"#7201a8\"],[0.3333333333333333,\"#9c179e\"],[0.4444444444444444,\"#bd3786\"],[0.5555555555555556,\"#d8576b\"],[0.6666666666666666,\"#ed7953\"],[0.7777777777777778,\"#fb9f3a\"],[0.8888888888888888,\"#fdca26\"],[1.0,\"#f0f921\"]]}],\"heatmap\":[{\"type\":\"heatmap\",\"colorbar\":{\"outlinewidth\":0,\"ticks\":\"\"},\"colorscale\":[[0.0,\"#0d0887\"],[0.1111111111111111,\"#46039f\"],[0.2222222222222222,\"#7201a8\"],[0.3333333333333333,\"#9c179e\"],[0.4444444444444444,\"#bd3786\"],[0.5555555555555556,\"#d8576b\"],[0.6666666666666666,\"#ed7953\"],[0.7777777777777778,\"#fb9f3a\"],[0.8888888888888888,\"#fdca26\"],[1.0,\"#f0f921\"]]}],\"heatmapgl\":[{\"type\":\"heatmapgl\",\"colorbar\":{\"outlinewidth\":0,\"ticks\":\"\"},\"colorscale\":[[0.0,\"#0d0887\"],[0.1111111111111111,\"#46039f\"],[0.2222222222222222,\"#7201a8\"],[0.3333333333333333,\"#9c179e\"],[0.4444444444444444,\"#bd3786\"],[0.5555555555555556,\"#d8576b\"],[0.6666666666666666,\"#ed7953\"],[0.7777777777777778,\"#fb9f3a\"],[0.8888888888888888,\"#fdca26\"],[1.0,\"#f0f921\"]]}],\"contourcarpet\":[{\"type\":\"contourcarpet\",\"colorbar\":{\"outlinewidth\":0,\"ticks\":\"\"}}],\"contour\":[{\"type\":\"contour\",\"colorbar\":{\"outlinewidth\":0,\"ticks\":\"\"},\"colorscale\":[[0.0,\"#0d0887\"],[0.1111111111111111,\"#46039f\"],[0.2222222222222222,\"#7201a8\"],[0.3333333333333333,\"#9c179e\"],[0.4444444444444444,\"#bd3786\"],[0.5555555555555556,\"#d8576b\"],[0.6666666666666666,\"#ed7953\"],[0.7777777777777778,\"#fb9f3a\"],[0.8888888888888888,\"#fdca26\"],[1.0,\"#f0f921\"]]}],\"surface\":[{\"type\":\"surface\",\"colorbar\":{\"outlinewidth\":0,\"ticks\":\"\"},\"colorscale\":[[0.0,\"#0d0887\"],[0.1111111111111111,\"#46039f\"],[0.2222222222222222,\"#7201a8\"],[0.3333333333333333,\"#9c179e\"],[0.4444444444444444,\"#bd3786\"],[0.5555555555555556,\"#d8576b\"],[0.6666666666666666,\"#ed7953\"],[0.7777777777777778,\"#fb9f3a\"],[0.8888888888888888,\"#fdca26\"],[1.0,\"#f0f921\"]]}],\"mesh3d\":[{\"type\":\"mesh3d\",\"colorbar\":{\"outlinewidth\":0,\"ticks\":\"\"}}],\"scatter\":[{\"fillpattern\":{\"fillmode\":\"overlay\",\"size\":10,\"solidity\":0.2},\"type\":\"scatter\"}],\"parcoords\":[{\"type\":\"parcoords\",\"line\":{\"colorbar\":{\"outlinewidth\":0,\"ticks\":\"\"}}}],\"scatterpolargl\":[{\"type\":\"scatterpolargl\",\"marker\":{\"colorbar\":{\"outlinewidth\":0,\"ticks\":\"\"}}}],\"bar\":[{\"error_x\":{\"color\":\"#2a3f5f\"},\"error_y\":{\"color\":\"#2a3f5f\"},\"marker\":{\"line\":{\"color\":\"#E5ECF6\",\"width\":0.5},\"pattern\":{\"fillmode\":\"overlay\",\"size\":10,\"solidity\":0.2}},\"type\":\"bar\"}],\"scattergeo\":[{\"type\":\"scattergeo\",\"marker\":{\"colorbar\":{\"outlinewidth\":0,\"ticks\":\"\"}}}],\"scatterpolar\":[{\"type\":\"scatterpolar\",\"marker\":{\"colorbar\":{\"outlinewidth\":0,\"ticks\":\"\"}}}],\"histogram\":[{\"marker\":{\"pattern\":{\"fillmode\":\"overlay\",\"size\":10,\"solidity\":0.2}},\"type\":\"histogram\"}],\"scattergl\":[{\"type\":\"scattergl\",\"marker\":{\"colorbar\":{\"outlinewidth\":0,\"ticks\":\"\"}}}],\"scatter3d\":[{\"type\":\"scatter3d\",\"line\":{\"colorbar\":{\"outlinewidth\":0,\"ticks\":\"\"}},\"marker\":{\"colorbar\":{\"outlinewidth\":0,\"ticks\":\"\"}}}],\"scattermapbox\":[{\"type\":\"scattermapbox\",\"marker\":{\"colorbar\":{\"outlinewidth\":0,\"ticks\":\"\"}}}],\"scatterternary\":[{\"type\":\"scatterternary\",\"marker\":{\"colorbar\":{\"outlinewidth\":0,\"ticks\":\"\"}}}],\"scattercarpet\":[{\"type\":\"scattercarpet\",\"marker\":{\"colorbar\":{\"outlinewidth\":0,\"ticks\":\"\"}}}],\"carpet\":[{\"aaxis\":{\"endlinecolor\":\"#2a3f5f\",\"gridcolor\":\"white\",\"linecolor\":\"white\",\"minorgridcolor\":\"white\",\"startlinecolor\":\"#2a3f5f\"},\"baxis\":{\"endlinecolor\":\"#2a3f5f\",\"gridcolor\":\"white\",\"linecolor\":\"white\",\"minorgridcolor\":\"white\",\"startlinecolor\":\"#2a3f5f\"},\"type\":\"carpet\"}],\"table\":[{\"cells\":{\"fill\":{\"color\":\"#EBF0F8\"},\"line\":{\"color\":\"white\"}},\"header\":{\"fill\":{\"color\":\"#C8D4E3\"},\"line\":{\"color\":\"white\"}},\"type\":\"table\"}],\"barpolar\":[{\"marker\":{\"line\":{\"color\":\"#E5ECF6\",\"width\":0.5},\"pattern\":{\"fillmode\":\"overlay\",\"size\":10,\"solidity\":0.2}},\"type\":\"barpolar\"}],\"pie\":[{\"automargin\":true,\"type\":\"pie\"}]},\"layout\":{\"autotypenumbers\":\"strict\",\"colorway\":[\"#636efa\",\"#EF553B\",\"#00cc96\",\"#ab63fa\",\"#FFA15A\",\"#19d3f3\",\"#FF6692\",\"#B6E880\",\"#FF97FF\",\"#FECB52\"],\"font\":{\"color\":\"#2a3f5f\"},\"hovermode\":\"closest\",\"hoverlabel\":{\"align\":\"left\"},\"paper_bgcolor\":\"white\",\"plot_bgcolor\":\"#E5ECF6\",\"polar\":{\"bgcolor\":\"#E5ECF6\",\"angularaxis\":{\"gridcolor\":\"white\",\"linecolor\":\"white\",\"ticks\":\"\"},\"radialaxis\":{\"gridcolor\":\"white\",\"linecolor\":\"white\",\"ticks\":\"\"}},\"ternary\":{\"bgcolor\":\"#E5ECF6\",\"aaxis\":{\"gridcolor\":\"white\",\"linecolor\":\"white\",\"ticks\":\"\"},\"baxis\":{\"gridcolor\":\"white\",\"linecolor\":\"white\",\"ticks\":\"\"},\"caxis\":{\"gridcolor\":\"white\",\"linecolor\":\"white\",\"ticks\":\"\"}},\"coloraxis\":{\"colorbar\":{\"outlinewidth\":0,\"ticks\":\"\"}},\"colorscale\":{\"sequential\":[[0.0,\"#0d0887\"],[0.1111111111111111,\"#46039f\"],[0.2222222222222222,\"#7201a8\"],[0.3333333333333333,\"#9c179e\"],[0.4444444444444444,\"#bd3786\"],[0.5555555555555556,\"#d8576b\"],[0.6666666666666666,\"#ed7953\"],[0.7777777777777778,\"#fb9f3a\"],[0.8888888888888888,\"#fdca26\"],[1.0,\"#f0f921\"]],\"sequentialminus\":[[0.0,\"#0d0887\"],[0.1111111111111111,\"#46039f\"],[0.2222222222222222,\"#7201a8\"],[0.3333333333333333,\"#9c179e\"],[0.4444444444444444,\"#bd3786\"],[0.5555555555555556,\"#d8576b\"],[0.6666666666666666,\"#ed7953\"],[0.7777777777777778,\"#fb9f3a\"],[0.8888888888888888,\"#fdca26\"],[1.0,\"#f0f921\"]],\"diverging\":[[0,\"#8e0152\"],[0.1,\"#c51b7d\"],[0.2,\"#de77ae\"],[0.3,\"#f1b6da\"],[0.4,\"#fde0ef\"],[0.5,\"#f7f7f7\"],[0.6,\"#e6f5d0\"],[0.7,\"#b8e186\"],[0.8,\"#7fbc41\"],[0.9,\"#4d9221\"],[1,\"#276419\"]]},\"xaxis\":{\"gridcolor\":\"white\",\"linecolor\":\"white\",\"ticks\":\"\",\"title\":{\"standoff\":15},\"zerolinecolor\":\"white\",\"automargin\":true,\"zerolinewidth\":2},\"yaxis\":{\"gridcolor\":\"white\",\"linecolor\":\"white\",\"ticks\":\"\",\"title\":{\"standoff\":15},\"zerolinecolor\":\"white\",\"automargin\":true,\"zerolinewidth\":2},\"scene\":{\"xaxis\":{\"backgroundcolor\":\"#E5ECF6\",\"gridcolor\":\"white\",\"linecolor\":\"white\",\"showbackground\":true,\"ticks\":\"\",\"zerolinecolor\":\"white\",\"gridwidth\":2},\"yaxis\":{\"backgroundcolor\":\"#E5ECF6\",\"gridcolor\":\"white\",\"linecolor\":\"white\",\"showbackground\":true,\"ticks\":\"\",\"zerolinecolor\":\"white\",\"gridwidth\":2},\"zaxis\":{\"backgroundcolor\":\"#E5ECF6\",\"gridcolor\":\"white\",\"linecolor\":\"white\",\"showbackground\":true,\"ticks\":\"\",\"zerolinecolor\":\"white\",\"gridwidth\":2}},\"shapedefaults\":{\"line\":{\"color\":\"#2a3f5f\"}},\"annotationdefaults\":{\"arrowcolor\":\"#2a3f5f\",\"arrowhead\":0,\"arrowwidth\":1},\"geo\":{\"bgcolor\":\"white\",\"landcolor\":\"#E5ECF6\",\"subunitcolor\":\"white\",\"showland\":true,\"showlakes\":true,\"lakecolor\":\"white\"},\"title\":{\"x\":0.05},\"mapbox\":{\"style\":\"light\"}}},\"legend\":{\"tracegroupgap\":0},\"title\":{\"text\":\"Estimated Unemployment Rate\"},\"height\":700,\"width\":700},                        {\"responsive\": true}                    ).then(function(){\n",
              "                            \n",
              "var gd = document.getElementById('9fab374d-fcb2-446d-bd81-9fcad4a9574f');\n",
              "var x = new MutationObserver(function (mutations, observer) {{\n",
              "        var display = window.getComputedStyle(gd).display;\n",
              "        if (!display || display === 'none') {{\n",
              "            console.log([gd, 'removed!']);\n",
              "            Plotly.purge(gd);\n",
              "            observer.disconnect();\n",
              "        }}\n",
              "}});\n",
              "\n",
              "// Listen for the removal of the full notebook cells\n",
              "var notebookContainer = gd.closest('#notebook-container');\n",
              "if (notebookContainer) {{\n",
              "    x.observe(notebookContainer, {childList: true});\n",
              "}}\n",
              "\n",
              "// Listen for the clearing of the current output cell\n",
              "var outputEl = gd.closest('.output');\n",
              "if (outputEl) {{\n",
              "    x.observe(outputEl, {childList: true});\n",
              "}}\n",
              "\n",
              "                        })                };                            </script>        </div>\n",
              "</body>\n",
              "</html>"
            ]
          },
          "metadata": {}
        }
      ]
    },
    {
      "cell_type": "markdown",
      "source": [
        "During the Covid-19 pandemic, `Tripura` state has experienced a significant impact of the outbreak in both urban and rural areas, making it one of the most affected states. Following Tripura, `Haryana` state has also witnessed a considerable influence of the pandemic."
      ],
      "metadata": {
        "id": "uDAv1lt_nbDA"
      }
    }
  ]
}